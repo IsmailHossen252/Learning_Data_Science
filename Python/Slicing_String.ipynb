{
  "nbformat": 4,
  "nbformat_minor": 0,
  "metadata": {
    "colab": {
      "provenance": []
    },
    "kernelspec": {
      "name": "python3",
      "display_name": "Python 3"
    },
    "language_info": {
      "name": "python"
    }
  },
  "cells": [
    {
      "cell_type": "code",
      "execution_count": 2,
      "metadata": {
        "colab": {
          "base_uri": "https://localhost:8080/"
        },
        "id": "sE0n9WFvjXtP",
        "outputId": "e78c2f05-1757-45f7-c819-5e12b5a02d48"
      },
      "outputs": [
        {
          "output_type": "stream",
          "name": "stdout",
          "text": [
            "The tota\n",
            "The total string values\n",
            "ues\n",
            "ing values\n"
          ]
        }
      ],
      "source": [
        "# We can return a range of characters by using the slice syntax. Specify the start index and the end index, separated by a colon, to return a part of the string.\n",
        "x=\"The total string values\"\n",
        "print(x[:8]) # slice from start\n",
        "print(x[0:]) # slice to the end\n",
        "print(x[-3:]) # negative indexing, will start to count from the end\n",
        "print(x[-10:]) # negative indexing, will start to count from the endS"
      ]
    },
    {
      "cell_type": "code",
      "source": [],
      "metadata": {
        "id": "i7nAVLirkAyC"
      },
      "execution_count": null,
      "outputs": []
    }
  ]
}