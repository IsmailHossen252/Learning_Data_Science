{
  "nbformat": 4,
  "nbformat_minor": 0,
  "metadata": {
    "colab": {
      "provenance": []
    },
    "kernelspec": {
      "name": "python3",
      "display_name": "Python 3"
    },
    "language_info": {
      "name": "python"
    }
  },
  "cells": [
    {
      "cell_type": "code",
      "execution_count": 1,
      "metadata": {
        "colab": {
          "base_uri": "https://localhost:8080/"
        },
        "id": "MzANCrd86LSa",
        "outputId": "9e410d85-300c-42f0-9210-97a782b178c8"
      },
      "outputs": [
        {
          "output_type": "stream",
          "name": "stdout",
          "text": [
            "apple\n",
            "banana\n",
            "cherry\n"
          ]
        }
      ],
      "source": [
        "# Loop Through a List: You can loop through the list items by using a for loop:\n",
        "\n",
        "# Print all items in the list, one by one:\n",
        "\n",
        "thislist = [\"apple\", \"banana\", \"cherry\"]\n",
        "for x in thislist:\n",
        "  print(x)"
      ]
    },
    {
      "cell_type": "code",
      "source": [
        "# Loop Through the Index Numbers: You can also loop through the list items by referring to their index number.\n",
        "\n",
        "# Use the range() and len() functions to create a suitable iterable.\n",
        "\n",
        "# Print all items by referring to their index number:\n",
        "\n",
        "thislist = [\"apple\", \"banana\", \"cherry\"]\n",
        "for i in range(len(thislist)): # The iterable created in the example above is [0, 1, 2].\n",
        "  print(thislist[i])\n",
        "print(len(thislist))\n",
        "for x in range(len(thislist)): # The iterable created in the example above is [0, 1, 2].\n",
        "  print(thislist[x])"
      ],
      "metadata": {
        "colab": {
          "base_uri": "https://localhost:8080/"
        },
        "id": "caejlSMp6a1I",
        "outputId": "527f2582-d7c2-4503-86e4-97744cb58102"
      },
      "execution_count": 6,
      "outputs": [
        {
          "output_type": "stream",
          "name": "stdout",
          "text": [
            "apple\n",
            "banana\n",
            "cherry\n",
            "3\n",
            "apple\n",
            "banana\n",
            "cherry\n"
          ]
        }
      ]
    },
    {
      "cell_type": "code",
      "source": [
        "# Using a While Loop: You can loop through the list items by using a while loop.\n",
        "\n",
        "# Use the len() function to determine the length of the list, then start at 0 and loop your way through the list items by referring to their indexes.\n",
        "\n",
        "# Remember to increase the index by 1 after each iteration.\n",
        "\n",
        "# Print all items, using a while loop to go through all the index numbers\n",
        "\n",
        "thislist = [\"apple\", \"banana\", \"cherry\"]\n",
        "i = 0\n",
        "while i < len(thislist):\n",
        "  print(thislist[i])\n",
        "  i = i + 1\n",
        "print(len(thislist))\n",
        "x=len(thislist)\n",
        "i=0\n",
        "while i<x:\n",
        "  print(thislist[i])\n",
        "  i = i + 1"
      ],
      "metadata": {
        "colab": {
          "base_uri": "https://localhost:8080/"
        },
        "id": "WCgK2aDc66HM",
        "outputId": "3debad62-92bd-4c77-cd3e-cb1c21d09a90"
      },
      "execution_count": 9,
      "outputs": [
        {
          "output_type": "stream",
          "name": "stdout",
          "text": [
            "apple\n",
            "banana\n",
            "cherry\n",
            "3\n",
            "apple\n",
            "banana\n",
            "cherry\n"
          ]
        }
      ]
    },
    {
      "cell_type": "code",
      "source": [],
      "metadata": {
        "id": "BKzC3SPe8lBn"
      },
      "execution_count": null,
      "outputs": []
    }
  ]
}