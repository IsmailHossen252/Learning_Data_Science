{
  "nbformat": 4,
  "nbformat_minor": 0,
  "metadata": {
    "colab": {
      "provenance": []
    },
    "kernelspec": {
      "name": "python3",
      "display_name": "Python 3"
    },
    "language_info": {
      "name": "python"
    }
  },
  "cells": [
    {
      "cell_type": "code",
      "execution_count": 1,
      "metadata": {
        "colab": {
          "base_uri": "https://localhost:8080/"
        },
        "id": "Eh7j0jjY4Ua2",
        "outputId": "8ecb9fde-938f-4ddb-9bfa-ea543c1c8e95"
      },
      "outputs": [
        {
          "output_type": "stream",
          "name": "stdout",
          "text": [
            "['apple', 'cherry']\n"
          ]
        }
      ],
      "source": [
        "# Remove Specified Item: The remove() method removes the specified item.\n",
        "\n",
        "# Get your own Python Server\n",
        "# Remove \"banana\":\n",
        "\n",
        "thislist = [\"apple\", \"banana\", \"cherry\"]\n",
        "thislist.remove(\"banana\")\n",
        "print(thislist)"
      ]
    },
    {
      "cell_type": "code",
      "source": [
        "# If there are more than one item with the specified value, the remove() method removes the first occurance:\n",
        "\n",
        "# Remove the first occurance of \"banana\":\n",
        "\n",
        "thislist = [\"apple\", \"banana\", \"cherry\", \"banana\", \"kiwi\"]\n",
        "thislist.remove(\"banana\")\n",
        "print(thislist)"
      ],
      "metadata": {
        "colab": {
          "base_uri": "https://localhost:8080/"
        },
        "id": "Z-t0wmmi4pvY",
        "outputId": "6bec1c05-0ba2-4c2a-ebc8-c7b37943d8f5"
      },
      "execution_count": 2,
      "outputs": [
        {
          "output_type": "stream",
          "name": "stdout",
          "text": [
            "['apple', 'cherry', 'banana', 'kiwi']\n"
          ]
        }
      ]
    },
    {
      "cell_type": "code",
      "source": [
        "# Remove Specified Index: The pop() method removes the specified index.\n",
        "\n",
        "# Remove the second item:\n",
        "\n",
        "thislist = [\"apple\", \"banana\", \"cherry\"]\n",
        "thislist.pop(1)\n",
        "print(thislist)\n",
        "\n",
        "# If you do not specify the index, the pop() method removes the last item.\n",
        "\n",
        "# Remove the last item:\n",
        "\n",
        "thislist = [\"apple\", \"banana\", \"cherry\"]\n",
        "thislist.pop()\n",
        "print(thislist)"
      ],
      "metadata": {
        "colab": {
          "base_uri": "https://localhost:8080/"
        },
        "id": "qTTWp0uD5AO4",
        "outputId": "665a2cfa-eae3-42a6-cdc8-fc8fef1f67bf"
      },
      "execution_count": 3,
      "outputs": [
        {
          "output_type": "stream",
          "name": "stdout",
          "text": [
            "['apple', 'cherry']\n",
            "['apple', 'banana']\n"
          ]
        }
      ]
    },
    {
      "cell_type": "code",
      "source": [
        "# The del keyword also removes the specified index:\n",
        "\n",
        "# Remove the first item:\n",
        "\n",
        "thislist = [\"apple\", \"banana\", \"cherry\"]\n",
        "del thislist[0]\n",
        "print(thislist)\n",
        "\n",
        "#The del keyword can also delete the list completely.\n",
        "\n",
        "# Delete the entire list:\n",
        "\n",
        "thislist = [\"apple\", \"banana\", \"cherry\"]\n",
        "del thislist\n",
        "\n",
        "\n",
        "# Clear the List: The clear() method empties the list.\n",
        "\n",
        "# The list still remains, but it has no content.\n",
        "\n",
        "# Clear the list content:\n",
        "\n",
        "thislist = [\"apple\", \"banana\", \"cherry\"]\n",
        "thislist.clear()\n",
        "print(thislist)"
      ],
      "metadata": {
        "colab": {
          "base_uri": "https://localhost:8080/"
        },
        "id": "Fz9w0Jta5Q3F",
        "outputId": "243223fc-2c3a-4d7e-9ed3-925de94124ed"
      },
      "execution_count": 4,
      "outputs": [
        {
          "output_type": "stream",
          "name": "stdout",
          "text": [
            "['banana', 'cherry']\n",
            "[]\n"
          ]
        }
      ]
    },
    {
      "cell_type": "code",
      "source": [],
      "metadata": {
        "id": "C7UNoV3Q5rJu"
      },
      "execution_count": null,
      "outputs": []
    }
  ]
}