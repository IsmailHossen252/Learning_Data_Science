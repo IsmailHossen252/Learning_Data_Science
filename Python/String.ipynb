{
  "nbformat": 4,
  "nbformat_minor": 0,
  "metadata": {
    "colab": {
      "provenance": []
    },
    "kernelspec": {
      "name": "python3",
      "display_name": "Python 3"
    },
    "language_info": {
      "name": "python"
    }
  },
  "cells": [
    {
      "cell_type": "code",
      "execution_count": 1,
      "metadata": {
        "colab": {
          "base_uri": "https://localhost:8080/"
        },
        "id": "lPMbnibsfQyk",
        "outputId": "4d901000-8396-4881-94b0-8b5f502c8547"
      },
      "outputs": [
        {
          "output_type": "stream",
          "name": "stdout",
          "text": [
            "Hello\n",
            "Hello\n",
            "Hello World!\n"
          ]
        }
      ],
      "source": [
        "#Strings in python are surrounded by either single quotation marks, or double quotation marks.\n",
        "\n",
        "#'hello' is the same as \"hello\".\n",
        "\n",
        "#We can display a string literal with the print() function: i.e.\n",
        "print(\"Hello\")\n",
        "print('Hello')\n",
        "#Or can assign to a varible\n",
        "a=\"Hello World!\"\n",
        "print(a)"
      ]
    },
    {
      "cell_type": "code",
      "source": [
        "# Multiline Strings: assign a multiline string to a variable by using three single/double quotes.\n",
        "# Note: in the result, the line breaks are inserted at the same position as in the code.\n",
        "a=\"\"\"Dr. Sarwar Jahan was an assistant professor of ECE\n",
        "department in East West University, but ECE dept. merged into\n",
        "CSE department last year.\"\"\"\n",
        "b='''Dr. Sarwar Jahan was an assistant professor of ECE\n",
        "department in East West University, but ECE dept. merged into\n",
        "CSE department last year.'''\n",
        "print(a,b)"
      ],
      "metadata": {
        "colab": {
          "base_uri": "https://localhost:8080/"
        },
        "id": "YMuM4rjhgTxT",
        "outputId": "bac3d9c2-d0c5-4895-891b-8780639b65b6"
      },
      "execution_count": 4,
      "outputs": [
        {
          "output_type": "stream",
          "name": "stdout",
          "text": [
            "Dr. Sarwar Jahan was an assistant professor of ECE\n",
            "department in East West University, but ECE dept. merged into \n",
            "CSE department last year. Dr. Sarwar Jahan was an assistant professor of ECE\n",
            "department in East West University, but ECE dept. merged into \n",
            "CSE department last year.\n"
          ]
        }
      ]
    },
    {
      "cell_type": "code",
      "source": [],
      "metadata": {
        "id": "RIJiz_tpg_YV"
      },
      "execution_count": null,
      "outputs": []
    }
  ]
}