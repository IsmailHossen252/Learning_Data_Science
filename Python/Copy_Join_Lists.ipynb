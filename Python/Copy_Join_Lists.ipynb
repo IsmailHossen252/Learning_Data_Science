{
  "nbformat": 4,
  "nbformat_minor": 0,
  "metadata": {
    "colab": {
      "provenance": []
    },
    "kernelspec": {
      "name": "python3",
      "display_name": "Python 3"
    },
    "language_info": {
      "name": "python"
    }
  },
  "cells": [
    {
      "cell_type": "code",
      "execution_count": 2,
      "metadata": {
        "colab": {
          "base_uri": "https://localhost:8080/"
        },
        "id": "WhvAk9fGI7Z8",
        "outputId": "a27fdc88-6535-44a9-b542-fdc93d0ecb77"
      },
      "outputs": [
        {
          "output_type": "stream",
          "name": "stdout",
          "text": [
            "['apple', 'banana', 'cherry']\n",
            "['apple', 'banana']\n",
            "['apple', 'banana', 'cherry']\n"
          ]
        }
      ],
      "source": [
        "# Copy a List: You cannot copy a list simply by typing list2 = list1, because: list2 will only be a reference to list1, and changes made in list1 will automatically also be made in list2.\n",
        "\n",
        "# There are ways to make a copy, one way is to use the built-in List method copy().\n",
        "\n",
        "# Make a copy of a list with the copy() method:\n",
        "\n",
        "thislist = [\"apple\", \"banana\", \"cherry\"]\n",
        "mylist = thislist.copy()\n",
        "thislist=[\"apple\",\"banana\"]\n",
        "print(mylist)\n",
        "print(thislist)\n",
        "\n",
        "\n",
        "# Another way to make a copy is to use the built-in method list().\n",
        "\n",
        "#Make a copy of a list with the list() method:\n",
        "\n",
        "thislist = [\"apple\", \"banana\", \"cherry\"]\n",
        "mylist = list(thislist)\n",
        "print(mylist)"
      ]
    },
    {
      "cell_type": "code",
      "source": [
        "# Join Two Lists: There are several ways to join, or concatenate, two or more lists in Python.\n",
        "\n",
        "# One of the easiest ways are by using the + operator.\n",
        "\n",
        "# Join two list:\n",
        "\n",
        "list1 = [\"a\", \"b\", \"c\"]\n",
        "list2 = [1, 2, 3]\n",
        "\n",
        "list3 = list1 + list2\n",
        "print(list3)"
      ],
      "metadata": {
        "colab": {
          "base_uri": "https://localhost:8080/"
        },
        "id": "B_WOthIMJoAJ",
        "outputId": "7ec58f4e-0286-48c2-840f-29674e8f0b02"
      },
      "execution_count": 3,
      "outputs": [
        {
          "output_type": "stream",
          "name": "stdout",
          "text": [
            "['a', 'b', 'c', 1, 2, 3]\n"
          ]
        }
      ]
    },
    {
      "cell_type": "code",
      "source": [
        "# Another way to join two lists is by appending all the items from list2 into list1, one by one:\n",
        "\n",
        "#Append list2 into list1:\n",
        "\n",
        "list1 = [\"a\", \"b\" , \"c\"]\n",
        "list2 = [10, 20, 30]\n",
        "\n",
        "for x in list2:\n",
        "  list1.append(x)\n",
        "\n",
        "print(list1)\n",
        "\n",
        "\n",
        "# Or you can use the extend() method, where the purpose is to add elements from one list to another list:\n",
        "\n",
        "# Use the extend() method to add list2 at the end of list1:\n",
        "\n",
        "list1 = [\"a\", \"b\" , \"c\"]\n",
        "list2 = [1, 2, 3]\n",
        "\n",
        "list1.extend(list2)\n",
        "print(list1)"
      ],
      "metadata": {
        "colab": {
          "base_uri": "https://localhost:8080/"
        },
        "id": "qe4_XIuBJ_mL",
        "outputId": "d69b7c87-7336-4419-9756-f326e56b4364"
      },
      "execution_count": 5,
      "outputs": [
        {
          "output_type": "stream",
          "name": "stdout",
          "text": [
            "['a', 'b', 'c', 10, 20, 30]\n",
            "['a', 'b', 'c', 1, 2, 3]\n"
          ]
        }
      ]
    },
    {
      "cell_type": "code",
      "source": [],
      "metadata": {
        "id": "xhOa4YixKNbV"
      },
      "execution_count": null,
      "outputs": []
    }
  ]
}