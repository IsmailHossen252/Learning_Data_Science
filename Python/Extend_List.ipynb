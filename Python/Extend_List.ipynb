{
  "nbformat": 4,
  "nbformat_minor": 0,
  "metadata": {
    "colab": {
      "provenance": []
    },
    "kernelspec": {
      "name": "python3",
      "display_name": "Python 3"
    },
    "language_info": {
      "name": "python"
    }
  },
  "cells": [
    {
      "cell_type": "code",
      "execution_count": 6,
      "metadata": {
        "colab": {
          "base_uri": "https://localhost:8080/"
        },
        "id": "5TSoyewF2Vdb",
        "outputId": "11601b85-af84-4f7e-873b-6bdb963ea9cc"
      },
      "outputs": [
        {
          "output_type": "stream",
          "name": "stdout",
          "text": [
            "['apple', 'banana', 'cherry', 'mango', 'pineapple', 'papaya']\n",
            "['apple', 'banana', 'cherry', 'mango', 'pineapple', 'papaya', 'watermelon', 'orange', 'guava']\n",
            "['apple', 'banana', 'cherry', 'mango', 'pineapple', 'papaya', 'watermelon', 'orange', 'guava', 'watermelon', 'orange', 'guava']\n"
          ]
        }
      ],
      "source": [
        "# Extend List: To append elements from another list to the current list, use the extend() method.\n",
        "\n",
        "# Add the elements of tropical to thislist:\n",
        "\n",
        "thislist = [\"apple\", \"banana\", \"cherry\"]\n",
        "tropical = [\"mango\", \"pineapple\", \"papaya\"]\n",
        "list2 = [\"watermelon\",\"orange\",\"guava\"]\n",
        "thislist.extend(tropical)\n",
        "print(thislist)\n",
        "thislist.extend(list2)\n",
        "print(thislist)\n",
        "thislist.extend(list2)\n",
        "print(thislist)"
      ]
    },
    {
      "cell_type": "code",
      "source": [
        "# The elements will be added to the end of the list: Add Any Iterable\n",
        "# The extend() method does not have to append lists, you can add any iterable object (tuples, sets, dictionaries etc.).\n",
        "\n",
        "# Add elements of a tuple to a list:\n",
        "\n",
        "thislist = [\"apple\", \"banana\", \"cherry\"]\n",
        "thistuple = (\"kiwi\", \"orange\")\n",
        "thislist.extend(thistuple)\n",
        "print(thislist)"
      ],
      "metadata": {
        "colab": {
          "base_uri": "https://localhost:8080/"
        },
        "id": "CWv1-qlx2m0k",
        "outputId": "83b2d0b0-01d7-43c3-f4f6-a965be3cdbe4"
      },
      "execution_count": 7,
      "outputs": [
        {
          "output_type": "stream",
          "name": "stdout",
          "text": [
            "['apple', 'banana', 'cherry', 'kiwi', 'orange']\n"
          ]
        }
      ]
    },
    {
      "cell_type": "code",
      "source": [],
      "metadata": {
        "id": "2ouNYrmx33er"
      },
      "execution_count": null,
      "outputs": []
    }
  ]
}