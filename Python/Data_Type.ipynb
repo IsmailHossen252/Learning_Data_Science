{
  "nbformat": 4,
  "nbformat_minor": 0,
  "metadata": {
    "colab": {
      "provenance": []
    },
    "kernelspec": {
      "name": "python3",
      "display_name": "Python 3"
    },
    "language_info": {
      "name": "python"
    }
  },
  "cells": [
    {
      "cell_type": "code",
      "execution_count": null,
      "metadata": {
        "id": "iR_kRvBl7PK0"
      },
      "outputs": [],
      "source": [
        "#Built-in Data Types:\n",
        "#In programming, data type is an important concept.\n",
        "#Variables can store data of different types, and different types can do different things.\n",
        "#Python has the following data types built-in by default, in these categories:\n",
        "\n",
        "#Text Type:\tstr\n",
        "#Numeric Types:\tint, float, complex\n",
        "#Sequence Types:\tlist, tuple, range\n",
        "#Mapping Type:\tdict\n",
        "#Set Types:\tset, frozenset\n",
        "#Boolean Type:\tbool\n",
        "#Binary Types:\tbytes, bytearray, memoryview\n",
        "#None Type:\tNoneType"
      ]
    },
    {
      "cell_type": "code",
      "source": [
        "#Examples\n",
        "x=\"String type data\"\n",
        "print(type(x))"
      ],
      "metadata": {
        "colab": {
          "base_uri": "https://localhost:8080/"
        },
        "id": "FYWyX4Do7sAh",
        "outputId": "51f0adec-0091-4461-eeca-2670fe0e9400"
      },
      "execution_count": 2,
      "outputs": [
        {
          "output_type": "stream",
          "name": "stdout",
          "text": [
            "<class 'str'>\n"
          ]
        }
      ]
    },
    {
      "cell_type": "code",
      "source": [
        "#int, float, complex\n",
        "x,y,z=20, 20.5, 1j\n",
        "print(type(x),type(y),type(z))"
      ],
      "metadata": {
        "colab": {
          "base_uri": "https://localhost:8080/"
        },
        "id": "DenkydJh7-Bh",
        "outputId": "51c5a094-2167-4abc-bd21-a1cf21cac784"
      },
      "execution_count": 4,
      "outputs": [
        {
          "output_type": "stream",
          "name": "stdout",
          "text": [
            "<class 'int'> <class 'float'> <class 'complex'>\n"
          ]
        }
      ]
    },
    {
      "cell_type": "code",
      "source": [
        "#Sequence Types:\n",
        "a=['apple','jackfruit','orange']\n",
        "b=('apple','grape','guava')\n",
        "c=range(8)\n",
        "print(c)\n",
        "print(type(a),type(b),type(c))"
      ],
      "metadata": {
        "colab": {
          "base_uri": "https://localhost:8080/"
        },
        "id": "Wul71Wzu8kiq",
        "outputId": "99b02c4b-38e9-4c32-9340-b442ae5661f7"
      },
      "execution_count": 2,
      "outputs": [
        {
          "output_type": "stream",
          "name": "stdout",
          "text": [
            "range(0, 8)\n",
            "<class 'list'> <class 'tuple'> <class 'range'>\n"
          ]
        }
      ]
    },
    {
      "cell_type": "code",
      "source": [
        "#Mapping Type(dictionary type data-use of second bracket)\n",
        "a={'Name':\"John\", 'Age': 36}\n",
        "print(type(a))\n",
        "print(a)"
      ],
      "metadata": {
        "colab": {
          "base_uri": "https://localhost:8080/"
        },
        "id": "R7qbl5rT9CPN",
        "outputId": "1a132afa-2edf-4a6a-f852-5a9fe52d0b73"
      },
      "execution_count": 3,
      "outputs": [
        {
          "output_type": "stream",
          "name": "stdout",
          "text": [
            "<class 'dict'>\n",
            "{'Name': 'John', 'Age': 36}\n"
          ]
        }
      ]
    },
    {
      "cell_type": "code",
      "source": [
        "x = {\"apple\", \"banana\", \"cherry\"}\t#set\n",
        "x = frozenset({\"apple\", \"banana\", \"cherry\"})\t#frozenset\n",
        "x = True\t#bool\n",
        "x = b\"Hello\"\t#bytes\n",
        "x = bytearray(5)\t#bytearray\n",
        "x = memoryview(bytes(5))\t#memoryview\n",
        "x = None\t#NoneType"
      ],
      "metadata": {
        "id": "FiO9YvmHYOKI"
      },
      "execution_count": null,
      "outputs": []
    }
  ]
}