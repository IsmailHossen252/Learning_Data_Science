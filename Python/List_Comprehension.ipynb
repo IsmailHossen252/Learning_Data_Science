{
  "nbformat": 4,
  "nbformat_minor": 0,
  "metadata": {
    "colab": {
      "provenance": []
    },
    "kernelspec": {
      "name": "python3",
      "display_name": "Python 3"
    },
    "language_info": {
      "name": "python"
    }
  },
  "cells": [
    {
      "cell_type": "code",
      "execution_count": 3,
      "metadata": {
        "colab": {
          "base_uri": "https://localhost:8080/"
        },
        "id": "7S_uc-M4-6KX",
        "outputId": "23d126dd-1f5b-47cb-e447-67ac7a8037ba"
      },
      "outputs": [
        {
          "output_type": "stream",
          "name": "stdout",
          "text": [
            "['apple', 'banana', 'mango']\n"
          ]
        }
      ],
      "source": [
        "# List Comprehension: List comprehension offers a shorter syntax when you want to create a new list based on the values of an existing list.\n",
        "\n",
        "\n",
        "# Based on a list of fruits, you want a new list, containing only the fruits with the letter \"a\" in the name.\n",
        "\n",
        "# Without list comprehension you will have to write a for statement with a conditional test inside:\n",
        "\n",
        "fruits = [\"apple\", \"banana\", \"cherry\", \"kiwi\", \"mango\"]\n",
        "newlist = []\n",
        "\n",
        "for x in fruits:\n",
        "  if \"a\" in x:\n",
        "    newlist.append(x)\n",
        "\n",
        "print(newlist)\n"
      ]
    },
    {
      "cell_type": "code",
      "source": [
        "# But With list comprehension you can do all that with only one line of code:\n",
        "\n",
        "fruits = [\"apple\", \"banana\", \"cherry\", \"kiwi\", \"mango\"]\n",
        "\n",
        "newlist = [x for x in fruits if \"a\" in x]\n",
        "newlist2=[y for y in fruits if \"e\" in y]\n",
        "\n",
        "print(newlist,newlist2)"
      ],
      "metadata": {
        "colab": {
          "base_uri": "https://localhost:8080/"
        },
        "id": "U1iqYa95Apok",
        "outputId": "4b51371e-1ac4-4514-ea01-2c9cfee1d08c"
      },
      "execution_count": 7,
      "outputs": [
        {
          "output_type": "stream",
          "name": "stdout",
          "text": [
            "['apple', 'banana', 'mango'] ['apple', 'cherry']\n"
          ]
        }
      ]
    },
    {
      "cell_type": "code",
      "source": [
        "# The Syntax: newlist = [expression for item in iterable if condition == True]\n",
        "# The return value is a new list, leaving the old list unchanged.\n",
        "\n",
        "# Condition: The condition is like a filter that only accepts the items that valuate to True.\n",
        "# Only accept items that are not \"apple\":\n",
        "fruits\n",
        "newlist = [x for x in fruits if x != \"apple\"]\n",
        "print(newlist)\n",
        "newlist = [x for x in fruits] #With no if statement:The condition if x != \"apple\"  will return True for all elements other than \"apple\", making the new list contain all fruits except \"apple\".\n",
        "# The condition is optional and can be omitted:\n",
        "print(newlist)\n",
        "newlist = [x for x in range(10) if x < 5] #Accept only numbers lower than 5:\n",
        "print(newlist)\n",
        "newlist = [x.upper() for x in fruits]\n",
        "print(newlist)\n",
        "\n",
        "# Set all values in the new list to 'hello':\n",
        "\n",
        "newlist = ['hello' for x in fruits]\n",
        "print(newlist)\n",
        "\n",
        "# Return \"mango\" instead of \"banana\":\n",
        "\n",
        "newlist = [x if x != \"banana\" else \"mango\" for x in fruits]\n",
        "print(newlist)"
      ],
      "metadata": {
        "colab": {
          "base_uri": "https://localhost:8080/"
        },
        "id": "eFv9jI4ZBbJs",
        "outputId": "92049be7-8417-49ea-a49e-24c7906e9124"
      },
      "execution_count": 14,
      "outputs": [
        {
          "output_type": "stream",
          "name": "stdout",
          "text": [
            "['banana', 'cherry', 'kiwi', 'mango']\n",
            "['apple', 'banana', 'cherry', 'kiwi', 'mango']\n",
            "[0, 1, 2, 3, 4]\n",
            "['APPLE', 'BANANA', 'CHERRY', 'KIWI', 'MANGO']\n",
            "['hello', 'hello', 'hello', 'hello', 'hello']\n",
            "['apple', 'mango', 'cherry', 'kiwi', 'mango']\n"
          ]
        }
      ]
    },
    {
      "cell_type": "code",
      "source": [],
      "metadata": {
        "id": "5aA1eOVuC_Ac"
      },
      "execution_count": null,
      "outputs": []
    }
  ]
}