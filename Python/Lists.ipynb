{
  "nbformat": 4,
  "nbformat_minor": 0,
  "metadata": {
    "colab": {
      "provenance": []
    },
    "kernelspec": {
      "name": "python3",
      "display_name": "Python 3"
    },
    "language_info": {
      "name": "python"
    }
  },
  "cells": [
    {
      "cell_type": "code",
      "execution_count": 1,
      "metadata": {
        "colab": {
          "base_uri": "https://localhost:8080/"
        },
        "id": "cKYoO2fe9_wp",
        "outputId": "dc8f8a09-2370-42e9-f9c7-d371ff188b3b"
      },
      "outputs": [
        {
          "output_type": "stream",
          "name": "stdout",
          "text": [
            "['apple', 'banana', 'cherry']\n"
          ]
        }
      ],
      "source": [
        "# Lists are used to store multiple items in a single variable.\n",
        "\n",
        "# Lists are one of 4 built-in data types in Python used to store collections of data, the other 3 are Tuple, Set, and Dictionary, all with different qualities and usage.\n",
        "\n",
        "#List items are ordered( it means that the items have a defined order, and that order will not change. If you add new items to a list, the new items will be placed at the end of the list.),\n",
        "# changeable(The list is changeable, meaning that we can change, add, and remove items in a list after it has been created.),\n",
        "# and allow duplicate values(Since lists are indexed, lists can have items with the same value:).\n",
        "\n",
        "# List items are indexed, the first item has index [0], the second item has index [1] etc.\n",
        "\n",
        "\n",
        "#Python Collections (Arrays)\n",
        "# There are four collection data types in the Python programming language:\n",
        "\n",
        "# List is a collection which is ordered and changeable. Allows duplicate members.\n",
        "# Tuple is a collection which is ordered and unchangeable. Allows duplicate members.\n",
        "# Set is a collection which is unordered, unchangeable*, and unindexed. No duplicate members.\n",
        "# Dictionary is a collection which is ordered** and changeable. No duplicate members.\n",
        "\n",
        "# Lists are created using square brackets:\n",
        "\n",
        "thislist = [\"apple\", \"banana\", \"cherry\"]\n",
        "print(thislist)"
      ]
    },
    {
      "cell_type": "code",
      "source": [
        "#List allow duplicate values:\n",
        "thislist = [\"apple\", \"banana\", \"cherry\", \"apple\", \"cherry\"]\n",
        "print(thislist)"
      ],
      "metadata": {
        "colab": {
          "base_uri": "https://localhost:8080/"
        },
        "id": "gpIKlaKL-vfC",
        "outputId": "8bcfb42c-c705-4fe7-bbe2-6ecf61405415"
      },
      "execution_count": 2,
      "outputs": [
        {
          "output_type": "stream",
          "name": "stdout",
          "text": [
            "['apple', 'banana', 'cherry', 'apple', 'cherry']\n"
          ]
        }
      ]
    },
    {
      "cell_type": "code",
      "source": [
        "# To determine how many items a list has, use the len() function:\n",
        "thislist = [\"apple\", \"banana\", \"cherry\"]\n",
        "print(len(thislist))"
      ],
      "metadata": {
        "colab": {
          "base_uri": "https://localhost:8080/"
        },
        "id": "9L1hu3wcALWv",
        "outputId": "c79273b7-de51-484a-ea59-7527d176bb97"
      },
      "execution_count": 3,
      "outputs": [
        {
          "output_type": "stream",
          "name": "stdout",
          "text": [
            "3\n"
          ]
        }
      ]
    },
    {
      "cell_type": "code",
      "source": [
        "# List items can be of any data type: String, int and boolean data types. A list can contain different data types.\n",
        "list1 = [\"apple\", \"banana\", \"cherry\"]\n",
        "list2 = [1, 5, 7, 9, 3]\n",
        "list3 = [True, False, False]\n",
        "list4 = [\"abc\", 34, True, 40, \"male\"]\n",
        "print(type(list1),type(list2), type(list3), type(list4))"
      ],
      "metadata": {
        "colab": {
          "base_uri": "https://localhost:8080/"
        },
        "id": "rltmJBJFAUsr",
        "outputId": "af1293cd-b9f7-4ca0-991a-cf7df70bf819"
      },
      "execution_count": 6,
      "outputs": [
        {
          "output_type": "stream",
          "name": "stdout",
          "text": [
            "<class 'list'> <class 'list'> <class 'list'> <class 'list'>\n"
          ]
        }
      ]
    },
    {
      "cell_type": "code",
      "source": [
        "# The list() Constructor\n",
        "# It is also possible to use the list() constructor when creating a new list.\n",
        "thislist = list((\"apple\", \"banana\", \"cherry\")) # note the double round-brackets\n",
        "print(thislist)"
      ],
      "metadata": {
        "colab": {
          "base_uri": "https://localhost:8080/"
        },
        "id": "Ijyez4VTDAQy",
        "outputId": "419b24a2-1a65-4d47-b636-6f8a27c5ccba"
      },
      "execution_count": 7,
      "outputs": [
        {
          "output_type": "stream",
          "name": "stdout",
          "text": [
            "['apple', 'banana', 'cherry']\n"
          ]
        }
      ]
    },
    {
      "cell_type": "code",
      "source": [],
      "metadata": {
        "id": "hVkmXAbuDFhv"
      },
      "execution_count": null,
      "outputs": []
    }
  ]
}