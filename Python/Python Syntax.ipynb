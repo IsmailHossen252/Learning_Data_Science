Python Syntax can easily excute by writting directly in command line
#Indentation: It's a space before creating a new block in code#
Example:
if 5>2
  print("New block creation by using identation/space before new line.")
/Syntax error: if we don't put space 
