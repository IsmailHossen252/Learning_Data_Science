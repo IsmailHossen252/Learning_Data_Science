{
  "nbformat": 4,
  "nbformat_minor": 0,
  "metadata": {
    "colab": {
      "provenance": []
    },
    "kernelspec": {
      "name": "python3",
      "display_name": "Python 3"
    },
    "language_info": {
      "name": "python"
    }
  },
  "cells": [
    {
      "cell_type": "code",
      "execution_count": null,
      "metadata": {
        "id": "liUIEStpauqj"
      },
      "outputs": [],
      "source": [
        "#Python Numbers\n",
        "#There are three numeric types in Python:\n",
        "int\n",
        "float\n",
        "complex"
      ]
    },
    {
      "cell_type": "code",
      "source": [
        "#Convertion of numbers\n",
        "x = 1    # int\n",
        "y = 2.8  # float\n",
        "z = 1j   # complex\n",
        "#NOTE: cannot convert complex numbers into another number type.\n",
        "\n",
        "#convert from int to float:\n",
        "a = float(x)\n",
        "\n",
        "#convert from float to int:\n",
        "b = int(y)\n",
        "\n",
        "#convert from int to complex:\n",
        "c = complex(x)\n",
        "\n",
        "print(a)\n",
        "print(b)\n",
        "print(c)\n",
        "\n",
        "print(type(a))\n",
        "print(type(b))\n",
        "print(type(c))"
      ],
      "metadata": {
        "colab": {
          "base_uri": "https://localhost:8080/"
        },
        "id": "akE0fjMpbB2n",
        "outputId": "bab97521-27e3-4bcd-8ac3-a1bcf48e26fb"
      },
      "execution_count": 1,
      "outputs": [
        {
          "output_type": "stream",
          "name": "stdout",
          "text": [
            "1.0\n",
            "2\n",
            "(1+0j)\n",
            "<class 'float'>\n",
            "<class 'int'>\n",
            "<class 'complex'>\n"
          ]
        }
      ]
    },
    {
      "cell_type": "code",
      "source": [
        "#Random Number\n",
        "#Python does not have a random() function to make a random number, but Python has a built-in module called random that can be used to make random numbers:\n",
        "#Import the random module, and display a random number between 1 and 9:\n",
        "import random\n",
        "\n",
        "print(random.randrange(1, 10))\n",
        "print(random.randrange(1, 10))\n",
        "print(random.randrange(1, 10))\n"
      ],
      "metadata": {
        "colab": {
          "base_uri": "https://localhost:8080/"
        },
        "id": "QaT4XEoXbJ2m",
        "outputId": "c021203c-bfa6-417f-f3e8-13b50d42a534"
      },
      "execution_count": 3,
      "outputs": [
        {
          "output_type": "stream",
          "name": "stdout",
          "text": [
            "1\n",
            "2\n",
            "6\n"
          ]
        }
      ]
    },
    {
      "cell_type": "code",
      "source": [],
      "metadata": {
        "id": "hHIKwKU8b1YX"
      },
      "execution_count": null,
      "outputs": []
    }
  ]
}