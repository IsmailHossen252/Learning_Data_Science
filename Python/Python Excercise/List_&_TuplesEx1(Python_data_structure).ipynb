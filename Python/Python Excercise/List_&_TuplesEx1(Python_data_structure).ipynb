{
  "nbformat": 4,
  "nbformat_minor": 0,
  "metadata": {
    "colab": {
      "provenance": []
    },
    "kernelspec": {
      "name": "python3",
      "display_name": "Python 3"
    },
    "language_info": {
      "name": "python"
    }
  },
  "cells": [
    {
      "cell_type": "code",
      "execution_count": 2,
      "metadata": {
        "colab": {
          "base_uri": "https://localhost:8080/"
        },
        "id": "S3RlORamLJbL",
        "outputId": "925bcf21-e914-41c6-cdf5-42fb680f5f8a"
      },
      "outputs": [
        {
          "output_type": "stream",
          "name": "stdout",
          "text": [
            "('Rock', 10, 12.5, 222, 'Smith', 22) ('Rock', 10, 12.5, 222)\n"
          ]
        }
      ],
      "source": [
        "# Tuples are immutable:can't be changed the value from a declared tuple\n",
        "\n",
        "tuple1 = (\"Rock\", 10, 12.5, 222)\n",
        "tuple2 = tuple1 # Multiple names referring to the same object is known as aliasing.\n",
        "tuple1 = tuple1 + (\"Smith\", 22)\n",
        "print(tuple1, tuple2) # Because tuples are immutable, we can't.\n",
        "# Therefore, tuple1 1 will not be affected by a change in tuple2 because the tuple is immutable i.e., we can't change it."
      ]
    },
    {
      "cell_type": "code",
      "source": [
        "# Complex data type: tuples among tuple\n",
        "tuple1 = (\"Rock\", 10, 12.5, 222)\n",
        "tuple2 = tuple1\n",
        "tuple1 = tuple1 + (\"Smith\", 22)\n",
        "print(tuple1) # Because tuples are immutable\n",
        "print(tuple2)\n",
        "t3 = ((tuple1, tuple2), \"Age: 29\", \"Name: Simth\",(1,2))\n",
        "print(tuple1, tuple2,t3)\n",
        "print('tuple1, tuple2,t3')\n",
        "print(t3[1])\n",
        "print(t3[2])\n",
        "print(t3[3])\n",
        "print(t3[0][1])\n",
        "print(t3[0][1][2])\n",
        "print(t3[0][1][:1])\n",
        "print(t3[0][1][:2])\n",
        "print(t3[0][1][:3])\n",
        "print(t3[1][0])\n",
        "print(t3[2][0])\n",
        "print(t3[3][0])\n",
        "\n"
      ],
      "metadata": {
        "colab": {
          "base_uri": "https://localhost:8080/"
        },
        "id": "tqFISCCMRc3A",
        "outputId": "c282fffb-2d77-4164-93ad-b4c79132f243"
      },
      "execution_count": 36,
      "outputs": [
        {
          "output_type": "stream",
          "name": "stdout",
          "text": [
            "('Rock', 10, 12.5, 222, 'Smith', 22)\n",
            "('Rock', 10, 12.5, 222)\n",
            "('Rock', 10, 12.5, 222, 'Smith', 22) ('Rock', 10, 12.5, 222) ((('Rock', 10, 12.5, 222, 'Smith', 22), ('Rock', 10, 12.5, 222)), 'Age: 29', 'Name: Simth', (1, 2))\n",
            "tuple1, tuple2,t3\n",
            "Age: 29\n",
            "Name: Simth\n",
            "(1, 2)\n",
            "('Rock', 10, 12.5, 222)\n",
            "12.5\n",
            "('Rock',)\n",
            "('Rock', 10)\n",
            "('Rock', 10, 12.5)\n",
            "A\n",
            "N\n",
            "1\n"
          ]
        }
      ]
    },
    {
      "cell_type": "code",
      "source": [
        "t3.append(3)\n",
        "print(t3)\n",
        "# but"
      ],
      "metadata": {
        "colab": {
          "base_uri": "https://localhost:8080/",
          "height": 245
        },
        "id": "aIWdhZixh3RY",
        "outputId": "c6f54147-1960-48fd-b2ef-4ed4e00926fe"
      },
      "execution_count": 38,
      "outputs": [
        {
          "output_type": "error",
          "ename": "AttributeError",
          "evalue": "'tuple' object has no attribute 'append'",
          "traceback": [
            "\u001b[0;31m---------------------------------------------------------------------------\u001b[0m",
            "\u001b[0;31mAttributeError\u001b[0m                            Traceback (most recent call last)",
            "\u001b[0;32m<ipython-input-38-3aad834e2c1a>\u001b[0m in \u001b[0;36m<cell line: 1>\u001b[0;34m()\u001b[0m\n\u001b[0;32m----> 1\u001b[0;31m \u001b[0mt3\u001b[0m\u001b[0;34m.\u001b[0m\u001b[0mappend\u001b[0m\u001b[0;34m(\u001b[0m\u001b[0;36m3\u001b[0m\u001b[0;34m)\u001b[0m\u001b[0;34m\u001b[0m\u001b[0;34m\u001b[0m\u001b[0m\n\u001b[0m\u001b[1;32m      2\u001b[0m \u001b[0mprint\u001b[0m\u001b[0;34m(\u001b[0m\u001b[0mt3\u001b[0m\u001b[0;34m)\u001b[0m\u001b[0;34m\u001b[0m\u001b[0;34m\u001b[0m\u001b[0m\n\u001b[1;32m      3\u001b[0m \u001b[0;31m# but\u001b[0m\u001b[0;34m\u001b[0m\u001b[0;34m\u001b[0m\u001b[0m\n\u001b[1;32m      4\u001b[0m \u001b[0mt3\u001b[0m\u001b[0;34m[\u001b[0m\u001b[0;36m0\u001b[0m\u001b[0;34m]\u001b[0m\u001b[0;34m=\u001b[0m\u001b[0;34m\"123\"\u001b[0m\u001b[0;34m\u001b[0m\u001b[0;34m\u001b[0m\u001b[0m\n\u001b[1;32m      5\u001b[0m \u001b[0mprint\u001b[0m\u001b[0;34m(\u001b[0m\u001b[0mt3\u001b[0m\u001b[0;34m)\u001b[0m\u001b[0;34m\u001b[0m\u001b[0;34m\u001b[0m\u001b[0m\n",
            "\u001b[0;31mAttributeError\u001b[0m: 'tuple' object has no attribute 'append'"
          ]
        }
      ]
    },
    {
      "cell_type": "code",
      "source": [
        "t3[0]=\"123\"\n",
        "print(t3)"
      ],
      "metadata": {
        "colab": {
          "base_uri": "https://localhost:8080/",
          "height": 193
        },
        "id": "okcpSVWFiNCY",
        "outputId": "e46217cd-8dc8-4bb3-aabf-791846302910"
      },
      "execution_count": 39,
      "outputs": [
        {
          "output_type": "error",
          "ename": "TypeError",
          "evalue": "'tuple' object does not support item assignment",
          "traceback": [
            "\u001b[0;31m---------------------------------------------------------------------------\u001b[0m",
            "\u001b[0;31mTypeError\u001b[0m                                 Traceback (most recent call last)",
            "\u001b[0;32m<ipython-input-39-f1f1ebc47b78>\u001b[0m in \u001b[0;36m<cell line: 1>\u001b[0;34m()\u001b[0m\n\u001b[0;32m----> 1\u001b[0;31m \u001b[0mt3\u001b[0m\u001b[0;34m[\u001b[0m\u001b[0;36m0\u001b[0m\u001b[0;34m]\u001b[0m\u001b[0;34m=\u001b[0m\u001b[0;34m\"123\"\u001b[0m\u001b[0;34m\u001b[0m\u001b[0;34m\u001b[0m\u001b[0m\n\u001b[0m\u001b[1;32m      2\u001b[0m \u001b[0mprint\u001b[0m\u001b[0;34m(\u001b[0m\u001b[0mt3\u001b[0m\u001b[0;34m)\u001b[0m\u001b[0;34m\u001b[0m\u001b[0;34m\u001b[0m\u001b[0m\n",
            "\u001b[0;31mTypeError\u001b[0m: 'tuple' object does not support item assignment"
          ]
        }
      ]
    },
    {
      "cell_type": "code",
      "source": [
        "t3.remove(\"Smith\")\n",
        "print(t3)"
      ],
      "metadata": {
        "colab": {
          "base_uri": "https://localhost:8080/",
          "height": 193
        },
        "id": "p-zMTCiRihF3",
        "outputId": "cb512d1e-811b-4ac3-d02a-4dbb0ae00ebb"
      },
      "execution_count": 40,
      "outputs": [
        {
          "output_type": "error",
          "ename": "AttributeError",
          "evalue": "'tuple' object has no attribute 'remove'",
          "traceback": [
            "\u001b[0;31m---------------------------------------------------------------------------\u001b[0m",
            "\u001b[0;31mAttributeError\u001b[0m                            Traceback (most recent call last)",
            "\u001b[0;32m<ipython-input-40-28f541aede3c>\u001b[0m in \u001b[0;36m<cell line: 1>\u001b[0;34m()\u001b[0m\n\u001b[0;32m----> 1\u001b[0;31m \u001b[0mt3\u001b[0m\u001b[0;34m.\u001b[0m\u001b[0mremove\u001b[0m\u001b[0;34m(\u001b[0m\u001b[0;34m\"Smith\"\u001b[0m\u001b[0;34m)\u001b[0m\u001b[0;34m\u001b[0m\u001b[0;34m\u001b[0m\u001b[0m\n\u001b[0m\u001b[1;32m      2\u001b[0m \u001b[0mprint\u001b[0m\u001b[0;34m(\u001b[0m\u001b[0mt3\u001b[0m\u001b[0;34m)\u001b[0m\u001b[0;34m\u001b[0m\u001b[0;34m\u001b[0m\u001b[0m\n",
            "\u001b[0;31mAttributeError\u001b[0m: 'tuple' object has no attribute 'remove'"
          ]
        }
      ]
    },
    {
      "cell_type": "code",
      "source": [
        "e# Lists are also a popular data structure in Python.\n",
        "# In many respects lists are like tuples, one key difference is they are mutable.\n",
        "\n",
        "L1 = [12, 12.3, \"John\", \"Mike\",[\"nested list\",'str: 1', \"float\",23.5,\"integer\",3]]\n",
        "L2 = L1\n",
        "print(L1)\n",
        "print(L2)\n",
        "L1 = L1 + [\"new list\", \"value1\", 23]\n",
        "L2.extend(['12345'])\n",
        "print(L1)\n",
        "print(L2)\n",
        "print(L1[0])\n",
        "print(L1[:4])\n",
        "print(L1[4][:3])"
      ],
      "metadata": {
        "colab": {
          "base_uri": "https://localhost:8080/"
        },
        "id": "e-QlMSqKSfL_",
        "outputId": "75b7105f-c094-404f-edfe-5d31dd064f46"
      },
      "execution_count": 32,
      "outputs": [
        {
          "output_type": "stream",
          "name": "stdout",
          "text": [
            "[12, 12.3, 'John', 'Mike', ['nested list', 'str: 1', 'float', 23.5, 'integer', 3]]\n",
            "[12, 12.3, 'John', 'Mike', ['nested list', 'str: 1', 'float', 23.5, 'integer', 3]]\n",
            "[12, 12.3, 'John', 'Mike', ['nested list', 'str: 1', 'float', 23.5, 'integer', 3], 'new list', 'value1', 23]\n",
            "[12, 12.3, 'John', 'Mike', ['nested list', 'str: 1', 'float', 23.5, 'integer', 3], '12345']\n",
            "12\n",
            "[12, 12.3, 'John', 'Mike']\n",
            "['nested list', 'str: 1', 'float']\n"
          ]
        }
      ]
    },
    {
      "cell_type": "code",
      "source": [
        "# How list are immutable?\n",
        "\n",
        "# tuple doesn't have remove or change or data entry way by indicating index[][] number but list have:\n",
        "\n",
        "L1 = [12, 12.3, \"John\", \"Mike\",[\"nested list\",'str: 1', \"float\",23.5,\"integer\",3]]\n",
        "L1.extend([\"John\",10])\n",
        "print(L1)\n",
        "L1.append(3)\n",
        "print(L1)\n",
        "# but\n",
        "L1[0]=\"123\"\n",
        "print(L1)"
      ],
      "metadata": {
        "colab": {
          "base_uri": "https://localhost:8080/"
        },
        "id": "NUWfThnzc39E",
        "outputId": "1d2588f4-cce6-4dfc-fefd-2d397c787c0c"
      },
      "execution_count": 41,
      "outputs": [
        {
          "output_type": "stream",
          "name": "stdout",
          "text": [
            "[12, 12.3, 'John', 'Mike', ['nested list', 'str: 1', 'float', 23.5, 'integer', 3], 'John', 10]\n",
            "[12, 12.3, 'John', 'Mike', ['nested list', 'str: 1', 'float', 23.5, 'integer', 3], 'John', 10, 3]\n",
            "['123', 12.3, 'John', 'Mike', ['nested list', 'str: 1', 'float', 23.5, 'integer', 3], 'John', 10, 3]\n"
          ]
        }
      ]
    },
    {
      "cell_type": "code",
      "source": [
        "# tuple doesn't have remove or change or data entry way by indicating index[][] number but list have:\n",
        "del(L1[4])\n",
        "print(L1)"
      ],
      "metadata": {
        "colab": {
          "base_uri": "https://localhost:8080/"
        },
        "id": "cGX87clIe7Ju",
        "outputId": "54d8e19c-fb7f-47eb-c9b9-0c8841c68f62"
      },
      "execution_count": 47,
      "outputs": [
        {
          "output_type": "stream",
          "name": "stdout",
          "text": [
            "['123', 12.3, 'John', ['nested list', 'str: 1', 'float', 23.5, 'integer', 3]]\n"
          ]
        }
      ]
    },
    {
      "cell_type": "code",
      "source": [
        "s = \" We never bow down to anyone except Allah\"\n",
        "s.split(\",\")\n",
        "print(s)"
      ],
      "metadata": {
        "colab": {
          "base_uri": "https://localhost:8080/"
        },
        "id": "ybaXiF3njUrB",
        "outputId": "90a9a41d-df12-47c1-abf0-349b61d06c20"
      },
      "execution_count": 51,
      "outputs": [
        {
          "output_type": "stream",
          "name": "stdout",
          "text": [
            " We never bow down to anyone except Allah\n"
          ]
        }
      ]
    },
    {
      "cell_type": "code",
      "source": [
        "help(s)"
      ],
      "metadata": {
        "colab": {
          "base_uri": "https://localhost:8080/"
        },
        "id": "RFRLZkCVsSO9",
        "outputId": "254b2dad-c97f-4a22-d899-7d8220bc0860"
      },
      "execution_count": 56,
      "outputs": [
        {
          "output_type": "stream",
          "name": "stdout",
          "text": [
            "No Python documentation found for 'We never bow down to anyone except Allah'.\n",
            "Use help() to get the interactive help utility.\n",
            "Use help(str) for help on the str class.\n",
            "\n"
          ]
        }
      ]
    },
    {
      "cell_type": "code",
      "source": [],
      "metadata": {
        "id": "LEsno3CvtH02"
      },
      "execution_count": null,
      "outputs": []
    }
  ]
}