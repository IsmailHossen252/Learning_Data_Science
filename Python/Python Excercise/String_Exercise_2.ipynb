{
  "nbformat": 4,
  "nbformat_minor": 0,
  "metadata": {
    "colab": {
      "provenance": []
    },
    "kernelspec": {
      "name": "python3",
      "display_name": "Python 3"
    },
    "language_info": {
      "name": "python"
    }
  },
  "cells": [
    {
      "cell_type": "code",
      "execution_count": 1,
      "metadata": {
        "colab": {
          "base_uri": "https://localhost:8080/",
          "height": 36
        },
        "id": "RJsMo6tt43wK",
        "outputId": "794f16b2-82bc-478d-d713-051781ca9aae"
      },
      "outputs": [
        {
          "output_type": "execute_result",
          "data": {
            "text/plain": [
              "'1'"
            ],
            "application/vnd.google.colaboratory.intrinsic+json": {
              "type": "string"
            }
          },
          "metadata": {},
          "execution_count": 1
        }
      ],
      "source": [
        "# What is the value of the variable a after the following code is executed?\n",
        "# Write your code below and press Shift+Enter to execute\n",
        "\n",
        "a = \"1\"\n",
        "a"
      ]
    },
    {
      "cell_type": "code",
      "source": [
        "# Use a stride value of 2 to print out every second character of the string e:\n",
        "e = 'clocrkr1e1c1t'\n",
        "print(e[::2])"
      ],
      "metadata": {
        "colab": {
          "base_uri": "https://localhost:8080/"
        },
        "id": "YqLSGCFL5hS_",
        "outputId": "1388ba5b-9f78-4e6e-f9eb-9f31692e3a6c"
      },
      "execution_count": 2,
      "outputs": [
        {
          "output_type": "stream",
          "name": "stdout",
          "text": [
            "correct\n"
          ]
        }
      ]
    },
    {
      "cell_type": "code",
      "source": [
        "# Print out a backslash:\n",
        "print('\\\\')"
      ],
      "metadata": {
        "colab": {
          "base_uri": "https://localhost:8080/"
        },
        "id": "EAaO-cbW5z4I",
        "outputId": "42324b34-b47f-4892-ac62-6f7f5116eef3"
      },
      "execution_count": 5,
      "outputs": [
        {
          "output_type": "stream",
          "name": "stdout",
          "text": [
            "\\\n"
          ]
        }
      ]
    },
    {
      "cell_type": "code",
      "source": [
        "# Convert the variable f to uppercase:\n",
        "f = \"You are wrong\"\n",
        "print(f.upper())"
      ],
      "metadata": {
        "colab": {
          "base_uri": "https://localhost:8080/"
        },
        "id": "CmJcgl_j57vE",
        "outputId": "b46f80dc-97e2-49a1-95f2-eff007fcee76"
      },
      "execution_count": 6,
      "outputs": [
        {
          "output_type": "stream",
          "name": "stdout",
          "text": [
            "YOU ARE WRONG\n"
          ]
        }
      ]
    },
    {
      "cell_type": "code",
      "source": [
        "# onsider the variable g, and find the first index of the sub-string snow:\n",
        "\n",
        "# Write your code below and press Shift+Enter to execute\n",
        "\n",
        "g = \"Mary had a little lamb Little lamb,\\d little lamb Mary had a little lamb \\\n",
        "Its fleece was white as snow And everywhere that Mary went Mary went, Mary went \\\n",
        "Everywhere that Mary went The lamb was sure to go\"\n",
        "g.find(\"snow\")\n",
        "\n",
        "# In the variable g, replace the sub-string Mary with Bob:\n",
        "print(g.replace(\"Mary\",\"Bob\"))"
      ],
      "metadata": {
        "colab": {
          "base_uri": "https://localhost:8080/"
        },
        "id": "fO6OxO5O6JXy",
        "outputId": "c6d77cb5-9682-40ac-b7f0-d664aec17278"
      },
      "execution_count": 19,
      "outputs": [
        {
          "output_type": "stream",
          "name": "stdout",
          "text": [
            "Bob had a little lamb Little lamb,\\d little lamb Bob had a little lamb Its fleece was white as snow And everywhere that Bob went Bob went, Bob went Everywhere that Bob went The lamb was sure to go\n"
          ]
        }
      ]
    },
    {
      "cell_type": "code",
      "source": [
        "# In the variable g, replace the sub-string , with .:\n",
        "print(g.replace(\",\",\".\"))"
      ],
      "metadata": {
        "colab": {
          "base_uri": "https://localhost:8080/"
        },
        "id": "om1169mx6cZJ",
        "outputId": "2a798ea4-68ee-4c8d-f204-6a56cc903efd"
      },
      "execution_count": 13,
      "outputs": [
        {
          "output_type": "stream",
          "name": "stdout",
          "text": [
            "Mary had a little lamb Little lamb. little lamb Mary had a little lamb Its fleece was white as snow And everywhere that Mary went Mary went. Mary went Everywhere that Mary went The lamb was sure to go\n"
          ]
        }
      ]
    },
    {
      "cell_type": "code",
      "source": [
        "# In the variable g, split the substring to list:\n",
        "print(g.split())"
      ],
      "metadata": {
        "colab": {
          "base_uri": "https://localhost:8080/"
        },
        "id": "ru18DLlc7iKk",
        "outputId": "ff3157e3-6592-4b42-a289-b46cdd31c13f"
      },
      "execution_count": 14,
      "outputs": [
        {
          "output_type": "stream",
          "name": "stdout",
          "text": [
            "['Mary', 'had', 'a', 'little', 'lamb', 'Little', 'lamb,', 'little', 'lamb', 'Mary', 'had', 'a', 'little', 'lamb', 'Its', 'fleece', 'was', 'white', 'as', 'snow', 'And', 'everywhere', 'that', 'Mary', 'went', 'Mary', 'went,', 'Mary', 'went', 'Everywhere', 'that', 'Mary', 'went', 'The', 'lamb', 'was', 'sure', 'to', 'go']\n"
          ]
        }
      ]
    },
    {
      "cell_type": "code",
      "source": [
        "# In the string s3, find the four consicutive digit character using \\d and search() function:\n",
        "s3 = \"House number- 1105\"\n",
        "x = s3.find(\"1105\")\n",
        "print(x)\n",
        "x = s3.find(\"Hou\")\n",
        "print(x)\n",
        "\n",
        "# Use the search() function to search for the \"\\d\" in the string\n",
        "import re\n",
        "result = re.search(\"\\d\", s3)\n",
        "\n",
        "# Check if a match was found\n",
        "if result:\n",
        "  print(\"Digit found\")\n",
        "else:\n",
        "  print(\"Digit not found.\")"
      ],
      "metadata": {
        "colab": {
          "base_uri": "https://localhost:8080/"
        },
        "id": "Vw7faVH17slw",
        "outputId": "899d3af8-d594-43ff-ba47-7c730b95e935"
      },
      "execution_count": 27,
      "outputs": [
        {
          "output_type": "stream",
          "name": "stdout",
          "text": [
            "14\n",
            "0\n",
            "Digit found\n"
          ]
        }
      ]
    },
    {
      "cell_type": "code",
      "source": [
        "# In the string str1, replace the sub-string fox with bear using sub() function:\n",
        "str1= \"The quick brown fox jumps over the lazy dog.\"\n",
        "\n",
        "# Write your code below and press Shift+Enter to execute\n",
        "str2 = str1.replace(\"fox\",\"bear\")\n",
        "print(str2)\n",
        "str3 = re.sub(r\"fox\",\"bear\",str1)\n",
        "print(str3)"
      ],
      "metadata": {
        "colab": {
          "base_uri": "https://localhost:8080/"
        },
        "id": "UhGjx7FL9OBh",
        "outputId": "7a0816e6-858f-4dbf-b71d-f9c88113b2ac"
      },
      "execution_count": 31,
      "outputs": [
        {
          "output_type": "stream",
          "name": "stdout",
          "text": [
            "The quick brown bear jumps over the lazy dog.\n",
            "The quick brown bear jumps over the lazy dog.\n"
          ]
        }
      ]
    },
    {
      "cell_type": "code",
      "source": [
        "# In the string str2 find all the occurrences of woo using findall() function:\n",
        "str4= \"How much wood would a woodchuck chuck, if a woodchuck could chuck wood?\"\n",
        "\n",
        "x = re.findall(r\"woo\",str4)\n",
        "print(x)"
      ],
      "metadata": {
        "colab": {
          "base_uri": "https://localhost:8080/"
        },
        "id": "92O8IhRH_LFf",
        "outputId": "ae184dca-7ab9-4e87-96db-9241f24476eb"
      },
      "execution_count": 34,
      "outputs": [
        {
          "output_type": "stream",
          "name": "stdout",
          "text": [
            "['woo', 'woo', 'woo', 'woo']\n"
          ]
        }
      ]
    },
    {
      "cell_type": "code",
      "source": [],
      "metadata": {
        "id": "-rYUZ5UF_5zo"
      },
      "execution_count": null,
      "outputs": []
    }
  ]
}