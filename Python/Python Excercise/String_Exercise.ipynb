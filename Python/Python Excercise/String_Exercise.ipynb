{
  "nbformat": 4,
  "nbformat_minor": 0,
  "metadata": {
    "colab": {
      "provenance": []
    },
    "kernelspec": {
      "name": "python3",
      "display_name": "Python 3"
    },
    "language_info": {
      "name": "python"
    }
  },
  "cells": [
    {
      "cell_type": "code",
      "execution_count": 6,
      "metadata": {
        "colab": {
          "base_uri": "https://localhost:8080/"
        },
        "id": "DjKLvel_kD4h",
        "outputId": "5e8faa33-fde1-4d1f-a875-967eba2ba495"
      },
      "outputs": [
        {
          "output_type": "stream",
          "name": "stdout",
          "text": [
            "Ma k \n",
            "MhlJkn\n",
            "Mcal ako \n"
          ]
        }
      ],
      "source": [
        "# We can also input a stride value as follows. The 2 indicates we select every second variable.\n",
        "x = \"Michaile Jackson \"\n",
        "print(x[::4])\n",
        "print(x[::3])\n",
        "print(x[::2])"
      ]
    },
    {
      "cell_type": "code",
      "source": [
        "len(x)"
      ],
      "metadata": {
        "colab": {
          "base_uri": "https://localhost:8080/"
        },
        "id": "SqgaFJ0HkMhH",
        "outputId": "d5ffd7fa-1bd7-4aba-b014-5ca41274caf0"
      },
      "execution_count": 7,
      "outputs": [
        {
          "output_type": "execute_result",
          "data": {
            "text/plain": [
              "17"
            ]
          },
          "metadata": {},
          "execution_count": 7
        }
      ]
    },
    {
      "cell_type": "code",
      "source": [
        "# Concatenation and Combination\n",
        "Statement = 'is the fisrt boy the class.'\n",
        "print(x + Statement)"
      ],
      "metadata": {
        "colab": {
          "base_uri": "https://localhost:8080/"
        },
        "id": "DXCecBg7kQxI",
        "outputId": "0077a5dd-5c6f-4268-e5ab-b1ed9709a6ff"
      },
      "execution_count": 8,
      "outputs": [
        {
          "output_type": "stream",
          "name": "stdout",
          "text": [
            "Michaile Jackson is the fisrt boy the class.\n"
          ]
        }
      ]
    },
    {
      "cell_type": "code",
      "source": [
        "# Replicate values:\n",
        "print(3*x)"
      ],
      "metadata": {
        "colab": {
          "base_uri": "https://localhost:8080/"
        },
        "id": "T9Urha6ZkwqT",
        "outputId": "fe9d9efe-1be3-431a-e8fa-67549553d786"
      },
      "execution_count": 11,
      "outputs": [
        {
          "output_type": "stream",
          "name": "stdout",
          "text": [
            "Michaile Jackson Michaile Jackson Michaile Jackson \n"
          ]
        }
      ]
    },
    {
      "cell_type": "code",
      "source": [
        "# Sequence Method: backslash & escape\n",
        "print(\" Michael is \\n is good student\") #\\n puts a new line\n",
        "print(\"Michael is\\t is a good student\") # \\t puts a new tab\n",
        "print(\" Michael and \\\\ Michaile\") # use a double backslash. The result is a backslash after the escape\n",
        "print(r\" Michael and Michaile\")"
      ],
      "metadata": {
        "colab": {
          "base_uri": "https://localhost:8080/"
        },
        "id": "Y_e00lDtk-JA",
        "outputId": "7e698a65-d2d2-4ae6-c450-835709684e00"
      },
      "execution_count": 14,
      "outputs": [
        {
          "output_type": "stream",
          "name": "stdout",
          "text": [
            " Michael is \n",
            " is good student\n",
            "Michael is\t is a good student\n",
            " Michael and \\ Michaile\n",
            " Michael and Michaile\n"
          ]
        }
      ]
    },
    {
      "cell_type": "code",
      "source": [
        "# Now let’s take a look at String Methods. Strings are sequences and, as such, have apply\n",
        "# methods that work on lists and tuples.\n",
        "\n",
        "# if we apply some methods on string \"A\", the output string will be\"B\".\n",
        "\n",
        "A = \"Apply sequence method on string to generate new string\"\n",
        "B = A.upper()\n",
        "print(A)\n",
        "print(B)\n",
        "C = B.lower()\n",
        "print(C)\n",
        "D = A.replace(\"Apply\",\"Deploy\")\n",
        "print(D)\n",
        "Method = A.find(\"sequence method\") # will give start column number[6]\n",
        "print(Method)"
      ],
      "metadata": {
        "colab": {
          "base_uri": "https://localhost:8080/"
        },
        "id": "VLgkPHiknvDs",
        "outputId": "cb8fce2c-9f3c-49a9-cefe-a62b817f1aa3"
      },
      "execution_count": 6,
      "outputs": [
        {
          "output_type": "stream",
          "name": "stdout",
          "text": [
            "Apply sequence method on string to generate new string\n",
            "APPLY SEQUENCE METHOD ON STRING TO GENERATE NEW STRING\n",
            "apply sequence method on string to generate new string\n",
            "Deploy sequence method on string to generate new string\n",
            "6\n"
          ]
        }
      ]
    },
    {
      "cell_type": "code",
      "source": [
        "# Now let’s take a look at String Methods. Strings are sequences and, as such, have apply\n",
        "# methods that work on lists and tuples.\n",
        "\n",
        "# if we apply some methods on string \"A\", the output string will be\"B\".\n",
        "\n",
        "A = \"Apply sequence method on string to generate new string\"\n",
        "B = A.upper()\n",
        "print(A)\n",
        "print(B)\n",
        "C = B.lower()\n",
        "print(C)\n",
        "D = A.replace(\"Apply\",\"Deploy\")\n",
        "print(D)\n",
        "Method = A.find(\"sequence method\") # will give start column number[6]\n",
        "print(Method)\n",
        "Meth = A.find(\"To\") # if the find method doesn't get sub-strings, it will give -1\n",
        "print(Meth)"
      ],
      "metadata": {
        "colab": {
          "base_uri": "https://localhost:8080/"
        },
        "outputId": "c9414900-6383-466f-904d-1e87a9af4f1e",
        "id": "UvV2BJRS1hof"
      },
      "execution_count": 7,
      "outputs": [
        {
          "output_type": "stream",
          "name": "stdout",
          "text": [
            "Apply sequence method on string to generate new string\n",
            "APPLY SEQUENCE METHOD ON STRING TO GENERATE NEW STRING\n",
            "apply sequence method on string to generate new string\n",
            "Deploy sequence method on string to generate new string\n",
            "6\n",
            "-1\n"
          ]
        }
      ]
    },
    {
      "cell_type": "code",
      "source": [],
      "metadata": {
        "id": "R5K53g_fz3qH"
      },
      "execution_count": null,
      "outputs": []
    }
  ]
}