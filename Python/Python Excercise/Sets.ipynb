{
  "nbformat": 4,
  "nbformat_minor": 0,
  "metadata": {
    "colab": {
      "provenance": []
    },
    "kernelspec": {
      "name": "python3",
      "display_name": "Python 3"
    },
    "language_info": {
      "name": "python"
    }
  },
  "cells": [
    {
      "cell_type": "code",
      "execution_count": 1,
      "metadata": {
        "colab": {
          "base_uri": "https://localhost:8080/"
        },
        "id": "NxsV0sNa8ekX",
        "outputId": "326806ca-c050-4d16-80c4-78d3110214e9"
      },
      "outputs": [
        {
          "output_type": "stream",
          "name": "stdout",
          "text": [
            "{'pop', 'hard rock', 'rock', 'soul'}\n"
          ]
        }
      ],
      "source": [
        "# Sets are type of collection:  This means that like lists and tuples, you can input different python types.\n",
        " # Unlike lists and tuples they are unordered: this means there is only one of a particular element in a set.\n",
        "\n",
        " # To define a set, we use curly { } bracket.\n",
        "\n",
        "set1 = {\"pop\",\"soul\",\"rock\",\"hard rock\",\"rock\"} # you notice there are duplicate items.\n",
        "\n",
        "print(set1) # When the actual set is created, duplicate items will not be present."
      ]
    },
    {
      "cell_type": "code",
      "source": [
        "\n",
        "# You can convert a list to a set by using the function set; this is called type-casting.\n",
        "\n",
        "Surah_list = [\"Al-Fatiha\",\"Al-Baqara\",\"Al-Imran\",\"An-Nisa\",\"Al-Fatiha\", \"Al-Baqara\"]\n",
        "Surah_set = set(Surah_list) # list to set convertion ( NB: set will have sorted data as well)\n",
        "Surah_set"
      ],
      "metadata": {
        "colab": {
          "base_uri": "https://localhost:8080/"
        },
        "id": "w8eI5JUh_U85",
        "outputId": "6ca52928-739f-4b68-9e8d-e107a304519e"
      },
      "execution_count": 4,
      "outputs": [
        {
          "output_type": "execute_result",
          "data": {
            "text/plain": [
              "{'Al-Baqara', 'Al-Fatiha', 'Al-Imran', 'An-Nisa'}"
            ]
          },
          "metadata": {},
          "execution_count": 4
        }
      ]
    },
    {
      "cell_type": "code",
      "source": [
        "\n",
        "# We can add an item to a set using the add method.\n",
        "Surah_set\n",
        "Surah_set.add(\"Al-Rahman\")\n",
        "Surah_set"
      ],
      "metadata": {
        "colab": {
          "base_uri": "https://localhost:8080/"
        },
        "id": "qo5tn0M1AQBJ",
        "outputId": "fc515de8-9d98-456a-dcf0-e9141c5d23c2"
      },
      "execution_count": 10,
      "outputs": [
        {
          "output_type": "execute_result",
          "data": {
            "text/plain": [
              "{'Al-Baqara', 'Al-Fatiha', 'Al-Imran', 'Al-Rahman', 'An-Nisa'}"
            ]
          },
          "metadata": {},
          "execution_count": 10
        }
      ]
    },
    {
      "cell_type": "code",
      "source": [
        "# We can also remove an item from a set using the remove method.\n",
        "Surah_set.discard('Al-Fatiha')\n",
        "New_set = Surah_set\n",
        "New_set"
      ],
      "metadata": {
        "colab": {
          "base_uri": "https://localhost:8080/"
        },
        "id": "Oq4wayA8YKeW",
        "outputId": "afd89589-5bb2-4697-b45a-41cd7bf6fc1d"
      },
      "execution_count": 17,
      "outputs": [
        {
          "output_type": "execute_result",
          "data": {
            "text/plain": [
              "{'Al-Baqara', 'Al-Imran', 'Al-Rahman', 'An-Nisa'}"
            ]
          },
          "metadata": {},
          "execution_count": 17
        }
      ]
    },
    {
      "cell_type": "code",
      "source": [
        "# we verify element is present or not:\n",
        "New_set = {'Al-Baqara', 'Al-Imran', 'Al-Rahman', 'An-Nisa'}\n",
        "if 'Al-Baqara' in New_set:\n",
        "  print(\"Element found.\")\n",
        "else:\n",
        "  print(\"Element not found\")\n",
        "\n",
        "\"Al-Baqara\" in New_set # not showing in output section\n",
        "\"No\" in New_set"
      ],
      "metadata": {
        "colab": {
          "base_uri": "https://localhost:8080/"
        },
        "id": "HQBB-1L1ZDQ9",
        "outputId": "6f266699-eeeb-4c78-8445-b41761f5edf5"
      },
      "execution_count": 8,
      "outputs": [
        {
          "output_type": "stream",
          "name": "stdout",
          "text": [
            "Element found.\n"
          ]
        },
        {
          "output_type": "execute_result",
          "data": {
            "text/plain": [
              "False"
            ]
          },
          "metadata": {},
          "execution_count": 8
        }
      ]
    },
    {
      "cell_type": "code",
      "source": [
        "# The intersection of two sets: &\n",
        "Surah_set = {'Al-Baqara', 'Al-Fatiha', 'Al-Imran', 'Al-Rahman', 'An-Nisa'}\n",
        "S = New_set & Surah_set\n",
        "S"
      ],
      "metadata": {
        "colab": {
          "base_uri": "https://localhost:8080/"
        },
        "id": "qVIYGrs1a0fh",
        "outputId": "145557f3-4f92-40f5-fe43-ec9c009f55f3"
      },
      "execution_count": 11,
      "outputs": [
        {
          "output_type": "execute_result",
          "data": {
            "text/plain": [
              "{'Al-Baqara', 'Al-Imran', 'Al-Rahman', 'An-Nisa'}"
            ]
          },
          "metadata": {},
          "execution_count": 11
        }
      ]
    },
    {
      "cell_type": "code",
      "source": [
        "# The union of two sets: set1.union(set2)\n",
        "Surah_set.union(New_set)\n",
        "Surah_set"
      ],
      "metadata": {
        "colab": {
          "base_uri": "https://localhost:8080/"
        },
        "id": "ELFf9_75wfjh",
        "outputId": "27fb7cb4-a9be-4bdb-8062-7aa05b54f728"
      },
      "execution_count": 12,
      "outputs": [
        {
          "output_type": "execute_result",
          "data": {
            "text/plain": [
              "{'Al-Baqara', 'Al-Fatiha', 'Al-Imran', 'Al-Rahman', 'An-Nisa'}"
            ]
          },
          "metadata": {},
          "execution_count": 12
        }
      ]
    },
    {
      "cell_type": "code",
      "source": [],
      "metadata": {
        "id": "wevvm6S2xLy7"
      },
      "execution_count": null,
      "outputs": []
    }
  ]
}