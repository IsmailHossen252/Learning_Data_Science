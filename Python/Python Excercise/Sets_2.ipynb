{
  "nbformat": 4,
  "nbformat_minor": 0,
  "metadata": {
    "colab": {
      "provenance": []
    },
    "kernelspec": {
      "name": "python3",
      "display_name": "Python 3"
    },
    "language_info": {
      "name": "python"
    }
  },
  "cells": [
    {
      "cell_type": "code",
      "execution_count": 1,
      "metadata": {
        "colab": {
          "base_uri": "https://localhost:8080/"
        },
        "id": "NxsV0sNa8ekX",
        "outputId": "326806ca-c050-4d16-80c4-78d3110214e9"
      },
      "outputs": [
        {
          "output_type": "stream",
          "name": "stdout",
          "text": [
            "{'pop', 'hard rock', 'rock', 'soul'}\n"
          ]
        }
      ],
      "source": [
        "# Sets are type of collection:  This means that like lists and tuples, you can input different python types.\n",
        " # Unlike lists and tuples they are unordered: this means there is only one of a particular element in a set.\n",
        "\n",
        " # To define a set, we use curly { } bracket.\n",
        "\n",
        "set1 = {\"pop\",\"soul\",\"rock\",\"hard rock\",\"rock\"} # you notice there are duplicate items.\n",
        "\n",
        "print(set1) # When the actual set is created, duplicate items will not be present."
      ]
    },
    {
      "cell_type": "code",
      "source": [
        "\n",
        "# You can convert a list to a set by using the function set; this is called type-casting.\n",
        "\n",
        "Surah_list = [\"Al-Fatiha\",\"Al-Baqara\",\"Al-Imran\",\"An-Nisa\",\"Al-Fatiha\", \"Al-Baqara\"]\n",
        "Surah_set = set(Surah_list) # list to set convertion ( NB: set will have sorted data as well)\n",
        "Surah_set"
      ],
      "metadata": {
        "colab": {
          "base_uri": "https://localhost:8080/"
        },
        "id": "w8eI5JUh_U85",
        "outputId": "6ca52928-739f-4b68-9e8d-e107a304519e"
      },
      "execution_count": 4,
      "outputs": [
        {
          "output_type": "execute_result",
          "data": {
            "text/plain": [
              "{'Al-Baqara', 'Al-Fatiha', 'Al-Imran', 'An-Nisa'}"
            ]
          },
          "metadata": {},
          "execution_count": 4
        }
      ]
    },
    {
      "cell_type": "code",
      "source": [
        "\n",
        "# We can add an item to a set using the add method.\n",
        "Surah_set\n",
        "Surah_set.add(\"Al-Rahman\")\n",
        "Surah_set"
      ],
      "metadata": {
        "colab": {
          "base_uri": "https://localhost:8080/"
        },
        "id": "qo5tn0M1AQBJ",
        "outputId": "fc515de8-9d98-456a-dcf0-e9141c5d23c2"
      },
      "execution_count": 10,
      "outputs": [
        {
          "output_type": "execute_result",
          "data": {
            "text/plain": [
              "{'Al-Baqara', 'Al-Fatiha', 'Al-Imran', 'Al-Rahman', 'An-Nisa'}"
            ]
          },
          "metadata": {},
          "execution_count": 10
        }
      ]
    },
    {
      "cell_type": "code",
      "source": [
        "# We can also remove an item from a set using the remove method.\n",
        "Surah_set.discard('Al-Fatiha')\n",
        "New_set = Surah_set\n",
        "New_set"
      ],
      "metadata": {
        "colab": {
          "base_uri": "https://localhost:8080/"
        },
        "id": "Oq4wayA8YKeW",
        "outputId": "afd89589-5bb2-4697-b45a-41cd7bf6fc1d"
      },
      "execution_count": 17,
      "outputs": [
        {
          "output_type": "execute_result",
          "data": {
            "text/plain": [
              "{'Al-Baqara', 'Al-Imran', 'Al-Rahman', 'An-Nisa'}"
            ]
          },
          "metadata": {},
          "execution_count": 17
        }
      ]
    },
    {
      "cell_type": "code",
      "source": [
        "# we verify element is present or not:\n",
        "New_set = {'Al-Baqara', 'Al-Imran', 'Al-Rahman', 'An-Nisa'}\n",
        "if 'Al-Baqara' in New_set:\n",
        "  print(\"Element found.\")\n",
        "else:\n",
        "  print(\"Element not found\")\n",
        "\n",
        "\"Al-Baqara\" in New_set # not showing in output section\n",
        "\"No\" in New_set"
      ],
      "metadata": {
        "colab": {
          "base_uri": "https://localhost:8080/"
        },
        "id": "HQBB-1L1ZDQ9",
        "outputId": "6f266699-eeeb-4c78-8445-b41761f5edf5"
      },
      "execution_count": 8,
      "outputs": [
        {
          "output_type": "stream",
          "name": "stdout",
          "text": [
            "Element found.\n"
          ]
        },
        {
          "output_type": "execute_result",
          "data": {
            "text/plain": [
              "False"
            ]
          },
          "metadata": {},
          "execution_count": 8
        }
      ]
    },
    {
      "cell_type": "code",
      "source": [
        "# The intersection of two sets: &\n",
        "Surah_set = {'Al-Baqara', 'Al-Fatiha', 'Al-Imran', 'Al-Rahman', 'An-Nisa'}\n",
        "S = New_set & Surah_set\n",
        "S"
      ],
      "metadata": {
        "colab": {
          "base_uri": "https://localhost:8080/"
        },
        "id": "qVIYGrs1a0fh",
        "outputId": "145557f3-4f92-40f5-fe43-ec9c009f55f3"
      },
      "execution_count": 11,
      "outputs": [
        {
          "output_type": "execute_result",
          "data": {
            "text/plain": [
              "{'Al-Baqara', 'Al-Imran', 'Al-Rahman', 'An-Nisa'}"
            ]
          },
          "metadata": {},
          "execution_count": 11
        }
      ]
    },
    {
      "cell_type": "code",
      "source": [
        "# The union of two sets: set1.union(set2)\n",
        "Surah_set.union(New_set)\n",
        "Surah_set"
      ],
      "metadata": {
        "colab": {
          "base_uri": "https://localhost:8080/"
        },
        "id": "ELFf9_75wfjh",
        "outputId": "27fb7cb4-a9be-4bdb-8062-7aa05b54f728"
      },
      "execution_count": 12,
      "outputs": [
        {
          "output_type": "execute_result",
          "data": {
            "text/plain": [
              "{'Al-Baqara', 'Al-Fatiha', 'Al-Imran', 'Al-Rahman', 'An-Nisa'}"
            ]
          },
          "metadata": {},
          "execution_count": 12
        }
      ]
    },
    {
      "cell_type": "code",
      "source": [
        "# Convert the list ['rap','house','electronic music', 'rap'] to a set:\n",
        "l1 = [\"rap\", \"house\", \"music\",\"rap\"]\n",
        "l1_set = set(l1)\n",
        "l1_set"
      ],
      "metadata": {
        "colab": {
          "base_uri": "https://localhost:8080/"
        },
        "id": "wevvm6S2xLy7",
        "outputId": "b1bebc50-71d2-4d08-ecdc-e7dfbda6dbc3"
      },
      "execution_count": 13,
      "outputs": [
        {
          "output_type": "execute_result",
          "data": {
            "text/plain": [
              "{'house', 'music', 'rap'}"
            ]
          },
          "metadata": {},
          "execution_count": 13
        }
      ]
    },
    {
      "cell_type": "code",
      "source": [
        "# Consider the list A = [1, 2, 2, 1] and set B = set([1, 2, 2, 1]), does sum(A) == sum(B)?\n",
        "\n",
        "A = [1,2,2,1]\n",
        "B = set(A)\n",
        "C = sum(A)\n",
        "B = sum(B)\n",
        "if C == B:\n",
        "  print(\"is equal\")\n",
        "else:\n",
        "  print(\"not equal\")"
      ],
      "metadata": {
        "colab": {
          "base_uri": "https://localhost:8080/"
        },
        "id": "iLUOytcA0DSD",
        "outputId": "d9dfbbb7-3642-478f-8a49-f62121ed4462"
      },
      "execution_count": 15,
      "outputs": [
        {
          "output_type": "stream",
          "name": "stdout",
          "text": [
            "not equal\n"
          ]
        }
      ]
    },
    {
      "cell_type": "code",
      "source": [
        "# Create a new set album_set3 that is the union of album_set1 and album_set2:\n",
        "\n",
        "album_set1 = set([\"Thriller\", 'AC/DC', 'Back in Black'])\n",
        "album_set2 = set([ \"AC/DC\", \"Back in Black\", \"The Dark Side of the Moon\"])\n",
        "album_set3 = album_set1.union(album_set2)\n",
        "album_set3"
      ],
      "metadata": {
        "colab": {
          "base_uri": "https://localhost:8080/"
        },
        "id": "Y6_DUitd0tm7",
        "outputId": "571265b7-10c7-4c72-d771-e03c458c0843"
      },
      "execution_count": 16,
      "outputs": [
        {
          "output_type": "execute_result",
          "data": {
            "text/plain": [
              "{'AC/DC', 'Back in Black', 'The Dark Side of the Moon', 'Thriller'}"
            ]
          },
          "metadata": {},
          "execution_count": 16
        }
      ]
    },
    {
      "cell_type": "code",
      "source": [
        "# Find out if album_set1 is a subset of album_set3:\n",
        "\n",
        "album_set1.issubset(album_set3)"
      ],
      "metadata": {
        "colab": {
          "base_uri": "https://localhost:8080/"
        },
        "id": "7XIxeMsO2Eaq",
        "outputId": "d1ef76ff-a9aa-499b-e228-f9e7e2d7860c"
      },
      "execution_count": 18,
      "outputs": [
        {
          "output_type": "execute_result",
          "data": {
            "text/plain": [
              "True"
            ]
          },
          "metadata": {},
          "execution_count": 18
        }
      ]
    },
    {
      "cell_type": "code",
      "source": [],
      "metadata": {
        "id": "crU_WmSn2fIC"
      },
      "execution_count": null,
      "outputs": []
    }
  ]
}