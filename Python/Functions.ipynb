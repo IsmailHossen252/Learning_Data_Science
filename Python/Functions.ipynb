{
  "nbformat": 4,
  "nbformat_minor": 0,
  "metadata": {
    "colab": {
      "provenance": []
    },
    "kernelspec": {
      "name": "python3",
      "display_name": "Python 3"
    },
    "language_info": {
      "name": "python"
    }
  },
  "cells": [
    {
      "cell_type": "code",
      "execution_count": 6,
      "metadata": {
        "colab": {
          "base_uri": "https://localhost:8080/"
        },
        "id": "3UvrKJsL-5IT",
        "outputId": "2697e599-b088-4824-9e10-7fb817df546f"
      },
      "outputs": [
        {
          "output_type": "stream",
          "name": "stdout",
          "text": [
            "Hello from a function\n"
          ]
        }
      ],
      "source": [
        "# Creating a Function: In Python a function is defined using the def keyword:\n",
        "def my_function():\n",
        "  print(\"Hello from a function\")\n",
        "# calling a function\n",
        "my_function()"
      ]
    },
    {
      "cell_type": "code",
      "source": [
        "# Arguments: Information can be passed into functions as arguments.\n",
        "\n",
        "# Arguments are specified after the function name, inside the parentheses. You can add as many arguments as you want, just separate them with a comma.\n",
        "\n",
        "# The following example has a function with one argument (fname). When the function is called, we pass along a first name, which is used inside the function to print the full name:\n",
        "\n",
        "def my_function(fname, sname):\n",
        "  print(fname +' '+sname)\n",
        "\n",
        "my_function(\"Emil\",\"Thompson\")\n",
        "my_function(\"Tobias\",\"Rudrigos\")\n",
        "my_function(\"Linus\",\"Max\")\n",
        "my_function(\"Lucas\",\"Alvail\")"
      ],
      "metadata": {
        "colab": {
          "base_uri": "https://localhost:8080/"
        },
        "id": "WqhoSIYY_qr1",
        "outputId": "1a586c16-5757-40f2-d668-f0bea42eecea"
      },
      "execution_count": 13,
      "outputs": [
        {
          "output_type": "stream",
          "name": "stdout",
          "text": [
            "Emil Thompson\n",
            "Tobias Rudrigos\n",
            "Linus Max\n",
            "Lucas Alvail\n"
          ]
        }
      ]
    },
    {
      "cell_type": "code",
      "source": [
        "# excercise 1\n",
        "bharatexpense=[30,40,50]\n",
        "total=0\n",
        "for item in bharatexpense:\n",
        "  total+=item\n",
        "print(\"Bharat's expense:\", total)\n",
        "\n",
        "bilalexpense=[39,57,86]\n",
        "total=0\n",
        "for item in bilalexpense:\n",
        "  total+=item\n",
        "print(\"Bilal's expense:\",total)\n"
      ],
      "metadata": {
        "colab": {
          "base_uri": "https://localhost:8080/"
        },
        "id": "gzfsXjQ3rtph",
        "outputId": "a15f0216-e75f-421c-96d4-db5e24d168f3"
      },
      "execution_count": 18,
      "outputs": [
        {
          "output_type": "stream",
          "name": "stdout",
          "text": [
            "Bharat's expense: 120\n",
            "Bilal's expense: 182\n",
            "Bharat's Expenses:  182\n"
          ]
        }
      ]
    },
    {
      "cell_type": "code",
      "source": [
        "# exercise 2\n",
        "def expense(cost):\n",
        "  '''This function helps to calculate total expenses'''\n",
        "  total=0\n",
        "  for item in cost:\n",
        "    total+=item\n",
        "  return total\n",
        "bharatex=[20,30,40]\n",
        "bharat_expenses=expense(bharatex)\n",
        "print(\"Bharat's Expenses: \", bharat_expenses)\n",
        "bilalex=[34,53,76]\n",
        "bilal_expenses=expense(bilalex)\n",
        "print(\"Bilal's Expenses: \", bilal_expenses)"
      ],
      "metadata": {
        "colab": {
          "base_uri": "https://localhost:8080/"
        },
        "id": "ictVJnw5478x",
        "outputId": "6d09d9d8-c195-4d80-80f3-f460b82bbd08"
      },
      "execution_count": 26,
      "outputs": [
        {
          "output_type": "stream",
          "name": "stdout",
          "text": [
            "Bharat's Expenses:  90\n",
            "Bilal's Expenses:  163\n"
          ]
        }
      ]
    },
    {
      "cell_type": "code",
      "source": [
        "# Exercise 3\n",
        "# Add, Substract, Multiply & Divde\n",
        "def sum(a,b):\n",
        "  Sum = a + b\n",
        "  return Sum\n",
        "def sub(a,b):\n",
        "  Sub = a - b\n",
        "  return Sub\n",
        "def mul(a,b):\n",
        "  Mul = a * b\n",
        "  return Mul\n",
        "def div(a,b):\n",
        "  Div = a / b\n",
        "  return Div\n",
        "a,b=(70,80)\n",
        "Summation=sum(a,b)\n",
        "Substaction=sub(a,b)\n",
        "Multiplication=mul(a,b)\n",
        "Division=div(a,b)\n",
        "print(\"Substraction value: \", Substaction)\n",
        "print(\"Summation value: \", Summation)\n",
        "print(\"Multiplication value: \", Multiplication)\n",
        "print(\"Division value: \", Division)"
      ],
      "metadata": {
        "colab": {
          "base_uri": "https://localhost:8080/"
        },
        "id": "4G8IIIy9650d",
        "outputId": "ec3e7dba-c4e8-4bce-826c-3c24c7fb8d13"
      },
      "execution_count": 28,
      "outputs": [
        {
          "output_type": "stream",
          "name": "stdout",
          "text": [
            "Substraction value:  -10\n",
            "Summation value:  150\n",
            "Multiplication value:  5600\n",
            "Division value:  0.875\n"
          ]
        }
      ]
    },
    {
      "cell_type": "code",
      "source": [
        "#Excercise 4\n",
        "def volume_of_cylinder(radius,height):\n",
        "  pi = 3.1416\n",
        "  vol = pi * radius* radius * height\n",
        "  return vol\n",
        "radius=33.45\n",
        "height=67.45\n",
        "Volume=volume_of_cylinder(radius,height)\n",
        "print(\"Volume of a cylinder: \",Volume,\"while radius & height\", radius, height)"
      ],
      "metadata": {
        "colab": {
          "base_uri": "https://localhost:8080/"
        },
        "id": "e1ARLO2K-oXK",
        "outputId": "e7e817a2-b545-405f-a77a-689364de1c32"
      },
      "execution_count": 34,
      "outputs": [
        {
          "output_type": "stream",
          "name": "stdout",
          "text": [
            "Volume of a cylinder:  237096.46914030006 while radius & height 33.45 67.45\n"
          ]
        }
      ]
    },
    {
      "cell_type": "code",
      "source": [
        "# Exercise of code basics hindi: https://www.youtube.com/watch?v=fvdHs0y39VM&list=PLPbgcxheSpE1DJKfdko58_AIZRIT0TjpO&index=10\n",
        "\n",
        "\n",
        "    # 1. Write a function called calculate_area that takes base and height as an input and returns the area of triangle.\n",
        "def calculate_area(base,height):\n",
        "  area=1/2*base*height\n",
        "  return area\n",
        "Area = calculate_area(base=10,height=20)\n",
        "print(\"Area of the triangle: \", Area)"
      ],
      "metadata": {
        "colab": {
          "base_uri": "https://localhost:8080/"
        },
        "id": "eG6RS5oqDPjb",
        "outputId": "2af41bdc-0a5a-4e59-9fd1-2d61c23864d9"
      },
      "execution_count": 35,
      "outputs": [
        {
          "output_type": "stream",
          "name": "stdout",
          "text": [
            "Area of the triangle:  100.0\n"
          ]
        }
      ]
    },
    {
      "cell_type": "code",
      "source": [
        "def calculate_area(base,height,shape):\n",
        "  if shape==t:\n",
        "      area=1/2*base*height\n",
        "  return area\n",
        "s=t\n",
        "Area = calculate_area(base=10,height=20,s)\n",
        "print(\"Area of the triangle: \", Area)"
      ],
      "metadata": {
        "id": "0tAhEZLPJrOL"
      },
      "execution_count": null,
      "outputs": []
    },
    {
      "cell_type": "code",
      "source": [
        "# Parameters or Arguments?\n",
        "# The terms parameter and argument can be used for the same thing: information that are passed into a function.\n",
        "\n",
        "# From a function's perspective:\n",
        "\n",
        "# A parameter is the variable listed inside the parentheses in the function definition.\n",
        "\n",
        "# An argument is the value that is sent to the function when it is called."
      ],
      "metadata": {
        "id": "o1TDTcD-CEFA"
      },
      "execution_count": null,
      "outputs": []
    },
    {
      "cell_type": "code",
      "source": [
        "# Number of Arguments\n",
        "# By default, a function must be called with the correct number of arguments. Meaning that if your function expects 2 arguments, you have to call the function with 2 arguments, not more, and not less.\n",
        "\n",
        "# This function expects 2 arguments, and gets 2 arguments:\n",
        "\n",
        "def my_function(fname, lname):\n",
        "  print(fname + \" \" + lname)\n",
        "\n",
        "my_function(\"Emil\", \"Refsnes\")"
      ],
      "metadata": {
        "colab": {
          "base_uri": "https://localhost:8080/"
        },
        "id": "0wZyKiJsDrZ3",
        "outputId": "8daae94d-d265-44e9-f869-21a384f3ed3a"
      },
      "execution_count": 14,
      "outputs": [
        {
          "output_type": "stream",
          "name": "stdout",
          "text": [
            "Emil Refsnes\n"
          ]
        }
      ]
    },
    {
      "cell_type": "code",
      "source": [
        "# If you try to call the function with 1 or 3 arguments, you will get an error:\n",
        "\n",
        "# This function expects 2 arguments, but gets only 1:\n",
        "\n",
        "def my_function(fname, lname):\n",
        "  print(fname + \" \" + lname)\n",
        "\n",
        "my_function(\"Emil\")\n"
      ],
      "metadata": {
        "colab": {
          "base_uri": "https://localhost:8080/",
          "height": 218
        },
        "id": "uwEPguMDD1R4",
        "outputId": "d85e4e4e-4080-4fb9-a7af-14fbfb40d1a5"
      },
      "execution_count": 18,
      "outputs": [
        {
          "output_type": "error",
          "ename": "TypeError",
          "evalue": "my_function() missing 1 required positional argument: 'lname'",
          "traceback": [
            "\u001b[0;31m---------------------------------------------------------------------------\u001b[0m",
            "\u001b[0;31mTypeError\u001b[0m                                 Traceback (most recent call last)",
            "\u001b[0;32m<ipython-input-18-e62d1184510a>\u001b[0m in \u001b[0;36m<cell line: 8>\u001b[0;34m()\u001b[0m\n\u001b[1;32m      6\u001b[0m   \u001b[0mprint\u001b[0m\u001b[0;34m(\u001b[0m\u001b[0mfname\u001b[0m \u001b[0;34m+\u001b[0m \u001b[0;34m\" \"\u001b[0m \u001b[0;34m+\u001b[0m \u001b[0mlname\u001b[0m\u001b[0;34m)\u001b[0m\u001b[0;34m\u001b[0m\u001b[0;34m\u001b[0m\u001b[0m\n\u001b[1;32m      7\u001b[0m \u001b[0;34m\u001b[0m\u001b[0m\n\u001b[0;32m----> 8\u001b[0;31m \u001b[0mmy_function\u001b[0m\u001b[0;34m(\u001b[0m\u001b[0;34m\"Emil\"\u001b[0m\u001b[0;34m)\u001b[0m\u001b[0;34m\u001b[0m\u001b[0;34m\u001b[0m\u001b[0m\n\u001b[0m",
            "\u001b[0;31mTypeError\u001b[0m: my_function() missing 1 required positional argument: 'lname'"
          ]
        }
      ]
    },
    {
      "cell_type": "code",
      "source": [
        "# Arbitrary Arguments, *args\n",
        "# If you do not know how many arguments that will be passed into your function, add a * before the parameter name in the function definition.\n",
        "\n",
        "# This way the function will receive a tuple of arguments, and can access the items accordingly:\n",
        "\n",
        "# If the number of arguments is unknown, add a * before the parameter name:\n",
        "\n",
        "def my_function(*kids):\n",
        "  print(\"The youngest child is \" + kids[0])\n",
        "\n",
        "my_function(\"Emil\", \"Tobias\", \"Linus\")"
      ],
      "metadata": {
        "colab": {
          "base_uri": "https://localhost:8080/"
        },
        "id": "kpfy5x0KECMX",
        "outputId": "83050b87-6efd-4f2e-c79e-ab7f9bce1eb0"
      },
      "execution_count": 20,
      "outputs": [
        {
          "output_type": "stream",
          "name": "stdout",
          "text": [
            "The youngest child is Emil\n"
          ]
        }
      ]
    },
    {
      "cell_type": "code",
      "source": [
        "# Keyword Arguments: You can also send arguments with the key = value syntax.\n",
        "\n",
        "# This way the order of the arguments does not matter.\n",
        "\n",
        "def my_function(child3, child2, child1):\n",
        "  print(\"The youngest child is \" + child3)\n",
        "\n",
        "my_function(child1 = \"Emil\", child2 = \"Tobias\", child3 = \"Linus\")"
      ],
      "metadata": {
        "colab": {
          "base_uri": "https://localhost:8080/"
        },
        "id": "cL0FAvfyHg5R",
        "outputId": "3386be84-7ffc-46a3-df30-5716fe200527"
      },
      "execution_count": 1,
      "outputs": [
        {
          "output_type": "stream",
          "name": "stdout",
          "text": [
            "The youngest child is Linus\n"
          ]
        }
      ]
    },
    {
      "cell_type": "code",
      "source": [
        "# Arbitrary Keyword Arguments, **kwargs\n",
        " # If you do not know how many keyword arguments that will be passed into your function, add two asterisk: ** before the parameter name in the function definition.\n",
        "\n",
        "# This way the function will receive a dictionary of arguments, and can access the items accordingly:\n",
        "\n",
        "# If the number of keyword arguments is unknown, add a double ** before the parameter name:\n",
        "\n",
        "def my_function(**kid):\n",
        "  print(\"His last name is \" + kid[\"lname\"])\n",
        "\n",
        "my_function(fname = \"Tobias\", lname = \"Refsnes\")"
      ],
      "metadata": {
        "colab": {
          "base_uri": "https://localhost:8080/"
        },
        "id": "18EjY41mDvck",
        "outputId": "c8451dad-7bc4-4fe6-fed1-8fe88ffbb08a"
      },
      "execution_count": 2,
      "outputs": [
        {
          "output_type": "stream",
          "name": "stdout",
          "text": [
            "His last name is Refsnes\n"
          ]
        }
      ]
    },
    {
      "cell_type": "code",
      "source": [
        "# Default Parameter Value\n",
        "# The following example shows how to use a default parameter value.\n",
        "\n",
        "# If we call the function without argument, it uses the default value:\n",
        "\n",
        "def my_function(country = \"Norway\"):\n",
        "  print(\"I am from \" + country)\n",
        "\n",
        "my_function(\"Sweden\")\n",
        "my_function(\"India\")\n",
        "my_function()\n",
        "my_function(\"Brazil\")"
      ],
      "metadata": {
        "colab": {
          "base_uri": "https://localhost:8080/"
        },
        "id": "9VJ6SdgjFHwG",
        "outputId": "a7065333-d269-4f93-bf39-520dafbac3ae"
      },
      "execution_count": 4,
      "outputs": [
        {
          "output_type": "stream",
          "name": "stdout",
          "text": [
            "I am from Sweden\n",
            "I am from India\n",
            "I am from Norway\n",
            "I am from Brazil\n"
          ]
        }
      ]
    },
    {
      "cell_type": "code",
      "source": [
        "# Passing a List as an Argument\n",
        " # You can send any data types of argument to a function (string, number, list, dictionary etc.), and it will be treated as the same data type inside the function.\n",
        "\n",
        "# E.g. if you send a List as an argument, it will still be a List when it reaches the function:\n",
        "\n",
        "def my_function(food):\n",
        "  for x in food:\n",
        "    print(x)\n",
        "\n",
        "fruits = [\"apple\", \"banana\", \"cherry\"]\n",
        "\n",
        "my_function(fruits)\n"
      ],
      "metadata": {
        "colab": {
          "base_uri": "https://localhost:8080/"
        },
        "id": "2hON4zqGUvmJ",
        "outputId": "2e17fe81-b894-4b69-b1e8-07fa4b3191e8"
      },
      "execution_count": 5,
      "outputs": [
        {
          "output_type": "stream",
          "name": "stdout",
          "text": [
            "apple\n",
            "banana\n",
            "cherry\n"
          ]
        }
      ]
    },
    {
      "cell_type": "code",
      "source": [
        "# Return Values: To let a function return a value, use the return statement:\n",
        "\n",
        "def my_function(x):\n",
        "  return 5 * x\n",
        "\n",
        "print(my_function(3))\n",
        "print(my_function(5))\n",
        "print(my_function(9))\n"
      ],
      "metadata": {
        "colab": {
          "base_uri": "https://localhost:8080/"
        },
        "id": "GOM63nPbWrO0",
        "outputId": "75977aed-f90f-4a96-eed2-ae8d8b2b896a"
      },
      "execution_count": 6,
      "outputs": [
        {
          "output_type": "stream",
          "name": "stdout",
          "text": [
            "15\n",
            "25\n",
            "45\n"
          ]
        }
      ]
    },
    {
      "cell_type": "code",
      "source": [
        "# The pass Statement: function definitions cannot be empty, but if you for some reason have a function definition with no content, put in the pass statement to avoid getting an error.\n",
        "\n",
        "def myfunction():\n",
        "  pass"
      ],
      "metadata": {
        "id": "0_Zr3l0XXIaN"
      },
      "execution_count": 7,
      "outputs": []
    },
    {
      "cell_type": "code",
      "source": [
        "# Positional-Only Arguments: You can specify that a function can have ONLY positional arguments, or ONLY keyword arguments.\n",
        "\n",
        "  # To specify that a function can have only positional arguments, add , / after the arguments:\n",
        "\n",
        "def my_function(x, y,/):\n",
        "  print(x*y)\n",
        "\n",
        "my_function(3,6)"
      ],
      "metadata": {
        "colab": {
          "base_uri": "https://localhost:8080/"
        },
        "id": "WOVWtVMCXRLe",
        "outputId": "5f1baac1-be97-4620-90e6-191c6bd46b2e"
      },
      "execution_count": 3,
      "outputs": [
        {
          "output_type": "stream",
          "name": "stdout",
          "text": [
            "18\n"
          ]
        }
      ]
    },
    {
      "cell_type": "code",
      "source": [
        "# Recursion: Python also accepts function recursion, which means a defined function can call itself.\n",
        "\n",
        "# Recursion is a common mathematical and programming concept. It means that a function calls itself. This has the benefit of meaning that you can loop through data to reach a result.\n",
        "\n",
        "# The developer should be very careful with recursion as it can be quite easy to slip into writing a function which never terminates, or one that uses excess amounts of memory or processor power. However, when written correctly recursion can be a very efficient and mathematically-elegant approach to programming.\n",
        "\n",
        "# In this example, tri_recursion() is a function that we have defined to call itself (\"recurse\"). We use the k variable as the data, which decrements (-1) every time we recurse. The recursion ends when the condition is not greater than 0 (i.e. when it is 0).\n",
        "\n",
        "# To a new developer it can take some time to work out how exactly this works, best way to find out is by testing and modifying it.\n",
        "\n",
        "# Recursion Example\n",
        "\n",
        "def tri_recursion(k):\n",
        "  if(k > 0):\n",
        "    result = k + tri_recursion(k - 1)\n",
        "    print(result)\n",
        "  else:\n",
        "    result = 0\n",
        "  return result\n",
        "\n",
        "print(\"\\n\\nRecursion Example Results\")\n",
        "tri_recursion(2)"
      ],
      "metadata": {
        "colab": {
          "base_uri": "https://localhost:8080/"
        },
        "id": "p4UvKU1Coh2J",
        "outputId": "6abd3a3c-512c-4f10-f566-511742abd49d"
      },
      "execution_count": 7,
      "outputs": [
        {
          "output_type": "stream",
          "name": "stdout",
          "text": [
            "\n",
            "\n",
            "Recursion Example Results\n",
            "1\n",
            "3\n"
          ]
        },
        {
          "output_type": "execute_result",
          "data": {
            "text/plain": [
              "3"
            ]
          },
          "metadata": {},
          "execution_count": 7
        }
      ]
    },
    {
      "cell_type": "code",
      "source": [],
      "metadata": {
        "id": "b4uR6hvZp8AQ"
      },
      "execution_count": null,
      "outputs": []
    }
  ]
}