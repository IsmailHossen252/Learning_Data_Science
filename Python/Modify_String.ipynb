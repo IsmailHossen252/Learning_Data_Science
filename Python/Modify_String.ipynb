{
  "nbformat": 4,
  "nbformat_minor": 0,
  "metadata": {
    "colab": {
      "provenance": []
    },
    "kernelspec": {
      "name": "python3",
      "display_name": "Python 3"
    },
    "language_info": {
      "name": "python"
    }
  },
  "cells": [
    {
      "cell_type": "code",
      "execution_count": 4,
      "metadata": {
        "colab": {
          "base_uri": "https://localhost:8080/"
        },
        "id": "va-mvzk7nWFC",
        "outputId": "b1827632-7578-4710-f253-e5545082b0a0"
      },
      "outputs": [
        {
          "output_type": "stream",
          "name": "stdout",
          "text": [
            " HELLO, WORLD! \n",
            " hello, world! \n",
            "Hello, World!\n",
            " This is my World, World! \n",
            "[' Hello', ' World! ']\n"
          ]
        }
      ],
      "source": [
        "# Modify Strings\n",
        "# Upper case/lower case/remove whitespce(use strip())/split string/replace string\n",
        "x=' Hello, World! '\n",
        "print(x.upper())\n",
        "print(x.lower())\n",
        "print(x.strip())\n",
        "print(x.replace(\"Hello\",\"This is my World\"))\n",
        "print(x.split(','))"
      ]
    },
    {
      "cell_type": "code",
      "source": [],
      "metadata": {
        "id": "tJG4QGxvn84G"
      },
      "execution_count": null,
      "outputs": []
    }
  ]
}