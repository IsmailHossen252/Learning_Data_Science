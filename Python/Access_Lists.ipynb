{
  "nbformat": 4,
  "nbformat_minor": 0,
  "metadata": {
    "colab": {
      "provenance": []
    },
    "kernelspec": {
      "name": "python3",
      "display_name": "Python 3"
    },
    "language_info": {
      "name": "python"
    }
  },
  "cells": [
    {
      "cell_type": "code",
      "execution_count": 1,
      "metadata": {
        "colab": {
          "base_uri": "https://localhost:8080/"
        },
        "id": "GJFb3sKuwPTW",
        "outputId": "2d6c0cbc-d055-4bb1-f252-bf15d50b9ae5"
      },
      "outputs": [
        {
          "output_type": "stream",
          "name": "stdout",
          "text": [
            "banana\n"
          ]
        }
      ],
      "source": [
        "# List items are indexed and you can access them by referring to the index number:\n",
        "# Print the second item of the list:\n",
        "thislist = [\"apple\", \"banana\", \"cherry\"]\n",
        "print(thislist[1]) #The first item has index 0."
      ]
    },
    {
      "cell_type": "code",
      "source": [
        "# Negative Indexing\n",
        "# Negative indexing means start from the end: -1 refers to the last item, -2 refers to the second last item etc.\n",
        "# Print the last item of the list:\n",
        "\n",
        "thislist = [\"apple\", \"banana\", \"cherry\"]\n",
        "print(thislist[-1])"
      ],
      "metadata": {
        "colab": {
          "base_uri": "https://localhost:8080/"
        },
        "id": "KNfXjikawhJz",
        "outputId": "5885fa0c-4cc5-410f-d42e-c71a45333e75"
      },
      "execution_count": 2,
      "outputs": [
        {
          "output_type": "stream",
          "name": "stdout",
          "text": [
            "cherry\n"
          ]
        }
      ]
    },
    {
      "cell_type": "code",
      "source": [
        "# Range of Indexes: You can specify a range of indexes by specifying where to start and where to end the range.\n",
        "# When specifying a range, the return value will be a new list with the specified items.\n",
        "# Return the third, fourth, and fifth item:\n",
        "\n",
        "thislist = [\"apple\", \"banana\", \"cherry\", \"orange\", \"kiwi\", \"melon\", \"mango\"]\n",
        "print(thislist[2:5]) # The search will start at index 2 (included) and end at index 5 (not included)."
      ],
      "metadata": {
        "colab": {
          "base_uri": "https://localhost:8080/"
        },
        "id": "Dhic3ZiLxAAF",
        "outputId": "90dc1e68-70e6-455f-8e76-ba294275c682"
      },
      "execution_count": 3,
      "outputs": [
        {
          "output_type": "stream",
          "name": "stdout",
          "text": [
            "['cherry', 'orange', 'kiwi']\n"
          ]
        }
      ]
    },
    {
      "cell_type": "code",
      "source": [
        "# By leaving out the start value, the range will start at the first item:\n",
        "# This example returns the items from the beginning to, but NOT including, \"kiwi\":\n",
        "\n",
        "thislist = [\"apple\", \"banana\", \"cherry\", \"orange\", \"kiwi\", \"melon\", \"mango\"]\n",
        "print(thislist[:4])"
      ],
      "metadata": {
        "colab": {
          "base_uri": "https://localhost:8080/"
        },
        "id": "nzQQQ5EIxl1U",
        "outputId": "4c69901a-ed0e-4e3f-e44a-814ec7d43005"
      },
      "execution_count": 4,
      "outputs": [
        {
          "output_type": "stream",
          "name": "stdout",
          "text": [
            "['apple', 'banana', 'cherry', 'orange']\n"
          ]
        }
      ]
    },
    {
      "cell_type": "code",
      "source": [
        "# By leaving out the end value, the range will go on to the end of the list: Example\n",
        "# This example returns the items from \"cherry\" to the end:\n",
        "\n",
        "thislist = [\"apple\", \"banana\", \"cherry\", \"orange\", \"kiwi\", \"melon\", \"mango\"]\n",
        "print(thislist[2:])"
      ],
      "metadata": {
        "colab": {
          "base_uri": "https://localhost:8080/"
        },
        "id": "V7iUkUYmx9Xb",
        "outputId": "18ccf440-dee5-4f0f-d248-6a90a7b3a83d"
      },
      "execution_count": 5,
      "outputs": [
        {
          "output_type": "stream",
          "name": "stdout",
          "text": [
            "['cherry', 'orange', 'kiwi', 'melon', 'mango']\n"
          ]
        }
      ]
    },
    {
      "cell_type": "code",
      "source": [
        "# Range of Negative Indexes: Specify negative indexes if you want to start the search from the end of the list:\n",
        "\n",
        "# This example returns the items from \"orange\" (-4) to, but NOT including \"mango\" (-1):\n",
        "\n",
        "thislist = [\"apple\", \"banana\", \"cherry\", \"orange\", \"kiwi\", \"melon\", \"mango\"]\n",
        "print(thislist[-4:-1])\n"
      ],
      "metadata": {
        "colab": {
          "base_uri": "https://localhost:8080/"
        },
        "id": "A3WHGMQyyIUB",
        "outputId": "6b9a1dc5-badf-45f6-a3bc-22764e1401c5"
      },
      "execution_count": 6,
      "outputs": [
        {
          "output_type": "stream",
          "name": "stdout",
          "text": [
            "['orange', 'kiwi', 'melon']\n"
          ]
        }
      ]
    },
    {
      "cell_type": "code",
      "source": [
        "# Check if Item Exists: To determine if a specified item is present in a list use the in keyword:\n",
        "\n",
        "# Check if \"apple\" is present in the list:\n",
        "\n",
        "thislist = [\"apple\", \"banana\", \"cherry\"]\n",
        "if \"khejur\" in thislist:\n",
        "  print(\"Yes, 'khejur' is in the thislist\")\n",
        "else:\n",
        "  print(\"Item is not found in thislist\")"
      ],
      "metadata": {
        "colab": {
          "base_uri": "https://localhost:8080/"
        },
        "id": "PRy1SRnpyYnW",
        "outputId": "904b93f1-9114-414d-df18-ee62fad11be4"
      },
      "execution_count": 9,
      "outputs": [
        {
          "output_type": "stream",
          "name": "stdout",
          "text": [
            "Item is not found in thislist\n"
          ]
        }
      ]
    },
    {
      "cell_type": "code",
      "source": [],
      "metadata": {
        "id": "ImMJ0GMZypFN"
      },
      "execution_count": null,
      "outputs": []
    }
  ]
}