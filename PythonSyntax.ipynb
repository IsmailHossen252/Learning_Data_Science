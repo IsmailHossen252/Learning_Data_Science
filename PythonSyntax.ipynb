{
  "nbformat": 4,
  "nbformat_minor": 0,
  "metadata": {
    "colab": {
      "provenance": [],
      "authorship_tag": "ABX9TyNagUIByfWp/b+s9MuOqAW2"
    },
    "kernelspec": {
      "name": "python3",
      "display_name": "Python 3"
    },
    "language_info": {
      "name": "python"
    }
  },
  "cells": [
    {
      "cell_type": "code",
      "execution_count": 1,
      "metadata": {
        "colab": {
          "base_uri": "https://localhost:8080/"
        },
        "id": "rggnVDglD_Cm",
        "outputId": "af3e0f6d-a8bf-492e-983d-3634b0023da8"
      },
      "outputs": [
        {
          "output_type": "stream",
          "name": "stdout",
          "text": [
            "Push the command directly\n"
          ]
        }
      ],
      "source": [
        "#Python Syntax: Python can be easily executed by writting directly the command line, i.e.\n",
        "print(\"Push the command directly\")"
      ]
    }
  ]
}