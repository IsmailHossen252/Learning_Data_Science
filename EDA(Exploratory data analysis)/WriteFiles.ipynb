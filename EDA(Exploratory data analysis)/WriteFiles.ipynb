{
  "nbformat": 4,
  "nbformat_minor": 0,
  "metadata": {
    "colab": {
      "provenance": []
    },
    "kernelspec": {
      "name": "python3",
      "display_name": "Python 3"
    },
    "language_info": {
      "name": "python"
    }
  },
  "cells": [
    {
      "cell_type": "code",
      "execution_count": 6,
      "metadata": {
        "colab": {
          "base_uri": "https://localhost:8080/"
        },
        "id": "Z6jNJqMck93S",
        "outputId": "a5838dac-d864-4ad0-dd54-3a512a2638a4"
      },
      "outputs": [
        {
          "output_type": "stream",
          "name": "stdout",
          "text": [
            "This is input\n"
          ]
        }
      ],
      "source": [
        "# write file\n",
        "exmp2 = '/Example2.txt'\n",
        "with open(exmp2, 'w') as writefile:\n",
        "    writefile.write(\"This is line A\")\n",
        "\n",
        "exm3 = \"/Example3.txt\"\n",
        "with open(exm3, 'w') as w:\n",
        "  w.write(\"This is input\")\n",
        "\n",
        "with open(exm3, 'r') as testwritefile:\n",
        "  print(testwritefile.read())"
      ]
    },
    {
      "cell_type": "code",
      "source": [
        "# open file\n",
        "with open(exmp2, 'r') as testwritefile:\n",
        "    print(testwritefile.read())"
      ],
      "metadata": {
        "colab": {
          "base_uri": "https://localhost:8080/"
        },
        "id": "yDyVEzE5lYdy",
        "outputId": "693fe72c-041f-4092-bc10-b0fbebed494d"
      },
      "execution_count": 7,
      "outputs": [
        {
          "output_type": "stream",
          "name": "stdout",
          "text": [
            "This is line A\n"
          ]
        }
      ]
    },
    {
      "cell_type": "code",
      "source": [
        " # write a file:\n",
        "\n",
        "a = '/file.txt'\n",
        "with open(a, 'w') as wr:\n",
        "  wr.write(\"All is well\")\n",
        "\n",
        "# now open file a that are taken as input\n",
        "with open(a, 'r') as r1:\n",
        "  print(r1.read())\n"
      ],
      "metadata": {
        "colab": {
          "base_uri": "https://localhost:8080/"
        },
        "id": "WDobkm9cloqU",
        "outputId": "ca6d83c8-467f-4a20-ff9c-937ea6928143"
      },
      "execution_count": 8,
      "outputs": [
        {
          "output_type": "stream",
          "name": "stdout",
          "text": [
            "All is well\n"
          ]
        }
      ]
    },
    {
      "cell_type": "code",
      "source": [
        "# write file\n",
        "\n",
        "myfirstwritefile = '/firstwritefile.txt'\n",
        "with open(myfirstwritefile,'w') as writefi:\n",
        "  writefi.write(\"My fisrt write file\")\n",
        "\n",
        "with open(myfirstwritefile,'r') as readf:\n",
        "  print(readf.read())\n",
        "  print(readf)\n"
      ],
      "metadata": {
        "colab": {
          "base_uri": "https://localhost:8080/"
        },
        "id": "aZ7Oz-idpJ8K",
        "outputId": "6dc679dd-ed24-4a2b-810a-c4688b2213f6"
      },
      "execution_count": 7,
      "outputs": [
        {
          "output_type": "stream",
          "name": "stdout",
          "text": [
            "My fisrt write file\n",
            "<_io.TextIOWrapper name='/firstwritefile.txt' mode='r' encoding='UTF-8'>\n"
          ]
        }
      ]
    },
    {
      "cell_type": "code",
      "source": [
        "#  We write a list to a **.txt** file  as follows:\n",
        "Line1 = [\"This is line A\\n\", \"This is line B\\n\", \"This is line C\\n\"]\n",
        "Line1\n",
        "X = '/Example.txt'\n",
        "with open(X, 'w') as writefile:\n",
        "    for line in Line1:\n",
        "        print(line)\n",
        "        writefile.write(line)\n",
        "\n",
        "# read the list file now:\n",
        "with open(X,'r') as openfile:\n",
        "  print(openfile.read())\n",
        "with open(X, 'w') as overwriting:\n",
        "  overwriting.write(\"Overwrite\\n\")\n",
        "with open(X, 'r') as readfile:\n",
        "  print(readfile.read())\n",
        ""
      ],
      "metadata": {
        "colab": {
          "base_uri": "https://localhost:8080/"
        },
        "id": "ADIWFcrSfTkE",
        "outputId": "cf462de0-7909-4993-a3e3-4c0577a2a816"
      },
      "execution_count": 12,
      "outputs": [
        {
          "output_type": "stream",
          "name": "stdout",
          "text": [
            "This is line A\n",
            "\n",
            "This is line B\n",
            "\n",
            "This is line C\n",
            "\n",
            "This is line A\n",
            "This is line B\n",
            "This is line C\n",
            "\n",
            "Overwrite\n",
            "\n"
          ]
        }
      ]
    },
    {
      "cell_type": "code",
      "source": [
        "# example of list reading and writing:\n",
        "\n",
        "Books = ['Arabic\\n','Bangla\\n','Math\\n','English\\n','Science\\n']\n",
        "print(Books)\n",
        "\n",
        "books = '/bookslist.txt'\n",
        "\n",
        "with open(books, 'w') as bookwrite:\n",
        "  for book in Books:\n",
        "    print(\"Before writing:\",book,)\n",
        "    bookwrite.write(book)\n",
        "with open(books, 'r') as booksread:\n",
        "  print(\"Total Subject lists after Reading:\")\n",
        "  print(booksread.read())"
      ],
      "metadata": {
        "colab": {
          "base_uri": "https://localhost:8080/"
        },
        "id": "hno6tXpVjzRf",
        "outputId": "fc5456c3-09ba-4cbd-f4f1-e24705da6ab5"
      },
      "execution_count": 20,
      "outputs": [
        {
          "output_type": "stream",
          "name": "stdout",
          "text": [
            "['Arabic\\n', 'Bangla\\n', 'Math\\n', 'English\\n', 'Science\\n']\n",
            "Before writing: Arabic\n",
            "\n",
            "Before writing: Bangla\n",
            "\n",
            "Before writing: Math\n",
            "\n",
            "Before writing: English\n",
            "\n",
            "Before writing: Science\n",
            "\n",
            "Total Subject lists after Reading:\n",
            "Arabic\n",
            "Bangla\n",
            "Math\n",
            "English\n",
            "Science\n",
            "\n"
          ]
        }
      ]
    },
    {
      "cell_type": "code",
      "source": [],
      "metadata": {
        "id": "1--Gm6_U-h63"
      },
      "execution_count": null,
      "outputs": []
    }
  ]
}