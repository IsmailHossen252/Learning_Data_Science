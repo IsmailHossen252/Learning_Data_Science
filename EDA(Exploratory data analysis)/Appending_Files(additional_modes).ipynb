{
  "nbformat": 4,
  "nbformat_minor": 0,
  "metadata": {
    "colab": {
      "provenance": []
    },
    "kernelspec": {
      "name": "python3",
      "display_name": "Python 3"
    },
    "language_info": {
      "name": "python"
    }
  },
  "cells": [
    {
      "cell_type": "code",
      "execution_count": null,
      "metadata": {
        "colab": {
          "base_uri": "https://localhost:8080/"
        },
        "id": "FWAogCg7BjD9",
        "outputId": "a3b2118c-c997-42b8-c0f8-97066617018f"
      },
      "outputs": [
        {
          "output_type": "stream",
          "name": "stdout",
          "text": [
            "['Argentina\\n', 'Brazil\\n', 'Bangladesh\\n', 'India\\n', 'Bhutan\\n']\n",
            "\n",
            "\n",
            "While wrting file:\n",
            "\n",
            "Argentina\n",
            "\n",
            "Brazil\n",
            "\n",
            "Bangladesh\n",
            "\n",
            "India\n",
            "\n",
            "Bhutan\n",
            "\n",
            "While reading file:\n",
            " Argentina\n",
            "Brazil\n",
            "Bangladesh\n",
            "India\n",
            "Bhutan\n",
            "\n",
            "New Countries:\n",
            " ['Nepal\\n', 'Myanmar\\n', 'Iran\\n']\n",
            "\n",
            "\n",
            "Nepal\n",
            "\n",
            "Myanmar\n",
            "\n",
            "Iran\n",
            "\n",
            "The text file after appending new couties from a list:\n",
            " Argentina\n",
            "Brazil\n",
            "Bangladesh\n",
            "India\n",
            "Bhutan\n",
            "Nepal\n",
            "Myanmar\n",
            "Iran\n",
            "\n",
            "America\n",
            "Aditional modes, istantly adding new country:\n",
            "\n",
            "\n",
            "UK\n",
            "Aditional modes, istantly adding new country:\n",
            "\n",
            "\n"
          ]
        }
      ],
      "source": [
        "# Additional modes of appending files: (r+, w+, a+)\n",
        "\n",
        "# It's fairly inefficient to open the file in a or w and then reopen it in r to read any lines. Luckily we can access the file in the following modes:\n",
        "\n",
        "# r+ : Reading and writing. Cannot truncate the file.\n",
        "# w+ : Writing and reading. Truncates the file.\n",
        "# a+ : Appending and Reading. Creates a new file, if none exists. You dont have to dwell on the specifics of each mode for this lab.\n",
        "\n",
        "# Writing country list and then reading it and then append new country;\n",
        "\n",
        "# list of countries:\n",
        "Countries = [\"Argentina\\n\", \"Brazil\\n\", \"Bangladesh\\n\",\"India\\n\",\"Bhutan\\n\"]\n",
        "print(Countries)\n",
        "print('\\n')\n",
        "\n",
        "\n",
        "# writing\n",
        "Textfile = \"countries.txt\"\n",
        "with open(Textfile,\"w\") as writeCountries:\n",
        "  print(\"While wrting file:\\n\")\n",
        "  for Country in Countries:\n",
        "    print(Country)\n",
        "    writeCountries.write(Country)\n",
        "\n",
        "\n",
        "# reading\n",
        "with open(Textfile,\"r\") as readfile:\n",
        "  print(\"While reading file:\\n\",readfile.read())\n",
        "\n",
        "\n",
        "# appending\n",
        "NewCountries = [\"Nepal\\n\",\"Myanmar\\n\",\"Iran\\n\"]\n",
        "print(\"New Countries:\\n\",NewCountries)\n",
        "print(\"\\n\")\n",
        "\n",
        "with open(Textfile,'a') as appendfile:\n",
        "  for newcountry in NewCountries:\n",
        "    print(newcountry)\n",
        "    appendfile.write(newcountry)\n",
        "\n",
        "with open(Textfile,'r') as readfile:\n",
        "    print(\"The text file after appending new couties from a list:\\n\",readfile.read())\n",
        "\n",
        "\n",
        "# Additional modes: using of a+(writing and reading)\n",
        "country1 = [\"America\",\"UK\"]\n",
        "with open(Textfile, 'a+') as testwritefile:\n",
        "    for name1 in country1:\n",
        "      print(name1)\n",
        "      testwritefile.write(name1)\n",
        "      print(\"Aditional modes, istantly adding new country:\\n\")\n",
        "      print(testwritefile.read())\n"
      ]
    },
    {
      "cell_type": "code",
      "source": [
        "# writing\n",
        "Textfile = \"/content/drive/MyDrive/Colab Notebooks/Colabfiles/countries.txt\"\n",
        "with open(Textfile,\"w\") as writeCountries:\n",
        "  print(\"While wrting file:\\n\")\n",
        "  for Country in Countries:\n",
        "    print(Country)\n",
        "    writeCountries.write(Country)"
      ],
      "metadata": {
        "colab": {
          "base_uri": "https://localhost:8080/"
        },
        "id": "KMQeJ6P7CFot",
        "outputId": "613de426-d7f4-4be2-dc28-0bf9127dbc54"
      },
      "execution_count": 8,
      "outputs": [
        {
          "output_type": "stream",
          "name": "stdout",
          "text": [
            "While wrting file:\n",
            "\n",
            "Argentina\n",
            "\n",
            "Brazil\n",
            "\n",
            "Bangladesh\n",
            "\n",
            "India\n",
            "\n",
            "Bhutan\n",
            "\n"
          ]
        }
      ]
    },
    {
      "cell_type": "code",
      "source": [
        "# reading\n",
        "with open(Textfile,\"r\") as readfile:\n",
        "  print(\"While reading file:\\n\",readfile.read())\n",
        "\n",
        "\n"
      ],
      "metadata": {
        "id": "lYCGKKz3CACq",
        "colab": {
          "base_uri": "https://localhost:8080/"
        },
        "outputId": "fb6d3523-f1e9-4761-b032-21dc78fa8959"
      },
      "execution_count": 9,
      "outputs": [
        {
          "output_type": "stream",
          "name": "stdout",
          "text": [
            "While reading file:\n",
            " Argentina\n",
            "Brazil\n",
            "Bangladesh\n",
            "India\n",
            "Bhutan\n",
            "\n"
          ]
        }
      ]
    },
    {
      "cell_type": "code",
      "source": [
        "# appending\n",
        "NewCountries = [\"Nepal\\n\",\"Myanmar\\n\",\"Iran\\n\"]\n",
        "print(\"New Countries:\\n\",NewCountries)\n",
        "print(\"\\n\")"
      ],
      "metadata": {
        "colab": {
          "base_uri": "https://localhost:8080/"
        },
        "id": "htfucH_VCWCn",
        "outputId": "b640939f-d4c2-4442-a2a7-fe218829f5b3"
      },
      "execution_count": 10,
      "outputs": [
        {
          "output_type": "stream",
          "name": "stdout",
          "text": [
            "New Countries:\n",
            " ['Nepal\\n', 'Myanmar\\n', 'Iran\\n']\n",
            "\n",
            "\n"
          ]
        }
      ]
    },
    {
      "cell_type": "code",
      "source": [
        "with open(Textfile,'a') as appendfile:\n",
        "  for newcountry in NewCountries:\n",
        "    print(newcountry)\n",
        "    appendfile.write(newcountry)\n",
        "\n"
      ],
      "metadata": {
        "colab": {
          "base_uri": "https://localhost:8080/"
        },
        "id": "FtVIIV7rChNT",
        "outputId": "8246f8a1-3076-43e3-cbce-7beb06cb03d4"
      },
      "execution_count": 11,
      "outputs": [
        {
          "output_type": "stream",
          "name": "stdout",
          "text": [
            "Nepal\n",
            "\n",
            "Myanmar\n",
            "\n",
            "Iran\n",
            "\n"
          ]
        }
      ]
    },
    {
      "cell_type": "code",
      "source": [
        "with open(Textfile,'r') as readfile:\n",
        "    print(\"The text file after appending new couties from a list:\\n\",readfile.read())\n"
      ],
      "metadata": {
        "id": "RNKhPJuqClyY",
        "outputId": "1fc1f6ea-a960-4581-890d-2bc8e5b80164",
        "colab": {
          "base_uri": "https://localhost:8080/"
        }
      },
      "execution_count": 30,
      "outputs": [
        {
          "output_type": "stream",
          "name": "stdout",
          "text": [
            "The text file after appending new couties from a list:\n",
            " Argentina\n",
            "Brazil\n",
            "Bangladesh\n",
            "India\n",
            "Bhutan\n",
            "Nepal\n",
            "Myanmar\n",
            "Iran\n",
            "\n",
            "\n"
          ]
        }
      ]
    },
    {
      "cell_type": "code",
      "source": [
        "Country2 = [\"Norway\\n\",\"Sweden\\n\"]\n",
        "with open(Textfile,'a+') as testwritefile1:\n",
        "    testwritefile1.write(\"Norway\\n\")\n",
        "    print(\"New countries beed added:\")\n",
        "    print(testwritefile1.read())\n",
        ""
      ],
      "metadata": {
        "id": "e7yDnP9kCnLb",
        "colab": {
          "base_uri": "https://localhost:8080/"
        },
        "outputId": "93899cb4-8638-4af4-d96c-f9044fcf56b7"
      },
      "execution_count": 44,
      "outputs": [
        {
          "output_type": "stream",
          "name": "stdout",
          "text": [
            "New countries beed added:\n",
            "\n"
          ]
        }
      ]
    },
    {
      "cell_type": "code",
      "source": [
        "with open(Textfile,'r') as readfile1:\n",
        " print(readfile1.read())"
      ],
      "metadata": {
        "colab": {
          "base_uri": "https://localhost:8080/"
        },
        "id": "WlS7BfzmOQoG",
        "outputId": "7ef604c5-e1df-4638-f233-59e29c11c7c9"
      },
      "execution_count": 45,
      "outputs": [
        {
          "output_type": "stream",
          "name": "stdout",
          "text": [
            "Argentina\n",
            "Brazil\n",
            "Bangladesh\n",
            "India\n",
            "Bhutan\n",
            "Nepal\n",
            "Myanmar\n",
            "Iran\n",
            "Norway\n",
            "\n"
          ]
        }
      ]
    },
    {
      "cell_type": "code",
      "source": [],
      "metadata": {
        "id": "3e2puut8YKYV"
      },
      "execution_count": 43,
      "outputs": []
    }
  ]
}