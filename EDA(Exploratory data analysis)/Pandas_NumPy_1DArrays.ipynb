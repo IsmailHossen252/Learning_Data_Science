{
  "nbformat": 4,
  "nbformat_minor": 0,
  "metadata": {
    "colab": {
      "provenance": []
    },
    "kernelspec": {
      "name": "python3",
      "display_name": "Python 3"
    },
    "language_info": {
      "name": "python"
    }
  },
  "cells": [
    {
      "cell_type": "code",
      "execution_count": null,
      "metadata": {
        "id": "GhBCaaVrruK2"
      },
      "outputs": [],
      "source": [
        "'''\n",
        "1. The Basics & Array\n",
        "2. Indexing and slicing\n",
        "3. Basic Operations\n",
        "4. Universal Functions\n",
        "..."
      ]
    },
    {
      "cell_type": "code",
      "source": [
        "\"\"\" Let's Learn how to create NumPy Array - 1D Array \"\"\"\n",
        "\"\"\" The Basices and Array \"\"\"\n",
        "\n",
        "import numpy as np # import numpy libraries\n",
        "x = [0,1,2,3, 20.0,4,5,6] # list input to be coverted as array\n",
        "a = np.array(x) # creating an array\n",
        "print(\"First index value of the array: \", a[0]) #accessing index value\n",
        "print(\"Third index value of the array: \", a[3]) #accessing index value"
      ],
      "metadata": {
        "colab": {
          "base_uri": "https://localhost:8080/"
        },
        "id": "qPB9kc_Isl5o",
        "outputId": "3883f8bb-7c62-44b4-86e3-bd29b114c751"
      },
      "execution_count": 1,
      "outputs": [
        {
          "output_type": "stream",
          "name": "stdout",
          "text": [
            "First index value of the array:  0.0\n",
            "Third index value of the array:  3.0\n"
          ]
        }
      ]
    },
    {
      "cell_type": "code",
      "source": [
        " # Check the type of the array:\n",
        "\n",
        "print(type(a)) # it will show as numpy.ndarray"
      ],
      "metadata": {
        "colab": {
          "base_uri": "https://localhost:8080/"
        },
        "id": "6w8RIwnVtJsm",
        "outputId": "ea295a3f-d158-456d-eb8d-cb8412df1570"
      },
      "execution_count": 2,
      "outputs": [
        {
          "output_type": "stream",
          "name": "stdout",
          "text": [
            "<class 'numpy.ndarray'>\n"
          ]
        }
      ]
    },
    {
      "cell_type": "code",
      "source": [
        "# Type of the index elements:\n",
        "print(a.dtype) # as we took integer type input the data type would be int and bit will be 64"
      ],
      "metadata": {
        "colab": {
          "base_uri": "https://localhost:8080/"
        },
        "id": "TgmO25LUuw8_",
        "outputId": "4c3d6a9a-35f7-4613-dbb6-1f3285349dab"
      },
      "execution_count": 3,
      "outputs": [
        {
          "output_type": "stream",
          "name": "stdout",
          "text": [
            "float64\n"
          ]
        }
      ]
    },
    {
      "cell_type": "code",
      "source": [
        "# Basic attribute of array:\n",
        "# size of array:\n",
        "print(a.size) # will show the array lenth"
      ],
      "metadata": {
        "colab": {
          "base_uri": "https://localhost:8080/"
        },
        "id": "VyB9-cmVvGWf",
        "outputId": "8b76de2c-7734-43d8-e0e7-0fd889532510"
      },
      "execution_count": 4,
      "outputs": [
        {
          "output_type": "stream",
          "name": "stdout",
          "text": [
            "8\n"
          ]
        }
      ]
    },
    {
      "cell_type": "code",
      "source": [
        "# Dimension:\n",
        "print(a.ndim) # will show the dimension"
      ],
      "metadata": {
        "colab": {
          "base_uri": "https://localhost:8080/"
        },
        "id": "f1CoFpGUvsQl",
        "outputId": "37a4d03d-e649-42bb-eb33-df96bdff3c88"
      },
      "execution_count": 5,
      "outputs": [
        {
          "output_type": "stream",
          "name": "stdout",
          "text": [
            "1\n"
          ]
        }
      ]
    },
    {
      "cell_type": "code",
      "source": [],
      "metadata": {
        "id": "UV_2cwZ2wP2T"
      },
      "execution_count": null,
      "outputs": []
    },
    {
      "cell_type": "code",
      "source": [
        "\"\"\" Indexing and slicing 1D Array\"\"\"\n",
        "\n",
        "print(\"The given array 'a' is: \\n\", a)\n",
        "\n",
        "b = a[1:4] # will slice as per index 1 to 4\n",
        "print(\"\\nAfter Slicing a prepare a new array 'b': \\n\", b)\n",
        "\n",
        "c = a[3:]\n",
        "print(\"\\nAfter Slicing a prepare a new array 'c': \\n\", c)\n",
        "\n",
        "c[2:] = [100, 200, 225]\n",
        "print(\"\\nAfter inserting new valus the array 'c': \\n\", c)\n"
      ],
      "metadata": {
        "colab": {
          "base_uri": "https://localhost:8080/"
        },
        "id": "OfwqQBwg6prt",
        "outputId": "83f607d3-9cdd-4f00-eb92-a9f74dc0a2c6"
      },
      "execution_count": 19,
      "outputs": [
        {
          "output_type": "stream",
          "name": "stdout",
          "text": [
            "The given array 'a' is: \n",
            " [  0.   1.   2.   3.  20. 100. 200. 225.]\n",
            "\n",
            "After Slicing a prepare a new array 'b': \n",
            " [1. 2. 3.]\n",
            "\n",
            "After Slicing a prepare a new array 'c': \n",
            " [  3.  20. 100. 200. 225.]\n",
            "\n",
            "After inserting new valus the array 'c': \n",
            " [  3.  20. 100. 200. 225.]\n"
          ]
        }
      ]
    },
    {
      "cell_type": "code",
      "source": [],
      "metadata": {
        "id": "E9_wHEE__Ux6"
      },
      "execution_count": null,
      "outputs": []
    },
    {
      "cell_type": "code",
      "source": [
        "\"\"\" Prepare an array from a given list and perform indexing and slicing operations on 1D Array: \"\"\"\n",
        "\n",
        "import numpy as np\n",
        "Movies = ['Nameless','James Bond','Harry Potter', ' Death Race', 'Genre no 24','Mystrey', 'Sceince Fiction', 'Comic']\n",
        "movies = np.array(Movies)\n",
        "\n",
        "print(\"The given movie list are: \\n\", movies)\n",
        "\n",
        "Movie1 = movies[0:4] # will create a new array of first 5 movies\n",
        "print(\"\\nThe given movie list after : \\n\", Movie1)\n",
        "\n",
        "Movie2 = movies[4:] # will create a new array of last 5 movies\n",
        "print(\"\\nThe given movie list after : \\n\", Movie2)"
      ],
      "metadata": {
        "colab": {
          "base_uri": "https://localhost:8080/"
        },
        "id": "1THMlVRB8Bz_",
        "outputId": "ea1590f8-dc3a-4908-effc-0a739dd4a2f8"
      },
      "execution_count": 23,
      "outputs": [
        {
          "output_type": "stream",
          "name": "stdout",
          "text": [
            "The given movie list are: \n",
            " ['Nameless' 'James Bond' 'Harry Potter' ' Death Race' 'Genre no 24'\n",
            " 'Mystrey' 'Sceince Fiction' 'Comic']\n",
            "\n",
            "The given movie list after : \n",
            " ['Nameless' 'James Bond' 'Harry Potter' ' Death Race']\n",
            "\n",
            "The given movie list after : \n",
            " ['Genre no 24' 'Mystrey' 'Sceince Fiction' 'Comic']\n"
          ]
        }
      ]
    },
    {
      "cell_type": "code",
      "source": [
        "\n"
      ],
      "metadata": {
        "id": "eams_S1lAbVL"
      },
      "execution_count": null,
      "outputs": []
    },
    {
      "cell_type": "code",
      "source": [
        "\"\"\" Basics operation on 1D Array: \"\"\"\n",
        "\n",
        "# add two vectors or 1D arrays: let's say u and v are given, but in traditional way\n",
        "\n",
        "u = [19, 7, 10]\n",
        "v = [11, 3, 15]\n",
        "z = []\n",
        "for n, m in zip(u, v):\n",
        "    z.append(n+m)\n",
        "print(\"The new 1D Array is 'z':\\n\", z)"
      ],
      "metadata": {
        "colab": {
          "base_uri": "https://localhost:8080/"
        },
        "id": "V_45fJc1O6Uk",
        "outputId": "75ee3059-0b05-4eb9-f966-4173fe299e83"
      },
      "execution_count": 46,
      "outputs": [
        {
          "output_type": "stream",
          "name": "stdout",
          "text": [
            "The new 1D Array is 'z':\n",
            " [30, 10, 25]\n"
          ]
        }
      ]
    },
    {
      "cell_type": "code",
      "source": [
        " \"\"\" But if you want to write the code in Numpy, it will be very easier.\"\"\"\n",
        "\n",
        "a = np.array(u)\n",
        "print(\"The first 1D array: \\n\", a)\n",
        "b = np.array(v)\n",
        "print(\"The second 1D array: \\n\", b)\n",
        "\n",
        "print(\"Add the given arrays.\\n\")\n",
        "\n",
        "# Addition:\n",
        "z = a + b\n",
        "print(\"\\nThe new 1D array after addition of u and v: \\n\", z)\n",
        "\n",
        "# Substractions:\n",
        "z = a - b\n",
        "print(\"\\nThe new vector value after substraction:\\n\", z)"
      ],
      "metadata": {
        "colab": {
          "base_uri": "https://localhost:8080/"
        },
        "id": "17-xFAk_PSY4",
        "outputId": "7b4ea02d-3695-417d-c605-129cff68a232"
      },
      "execution_count": 53,
      "outputs": [
        {
          "output_type": "stream",
          "name": "stdout",
          "text": [
            "The first 1D array: \n",
            " [19  7 10]\n",
            "The second 1D array: \n",
            " [11  3 15]\n",
            "Add the given arrays.\n",
            "\n",
            "\n",
            "The new 1D array after addition of u and v: \n",
            " [30 10 25]\n",
            "\n",
            "The new vector value after substraction:\n",
            " [ 8  4 -5]\n"
          ]
        }
      ]
    },
    {
      "cell_type": "code",
      "source": [],
      "metadata": {
        "id": "YqlW_CL_SI4d"
      },
      "execution_count": 53,
      "outputs": []
    },
    {
      "cell_type": "code",
      "source": [
        "\n",
        "\"\"\" Array multiplication with a scalar \"\"\"\n",
        "\n",
        "\"\"\" Multiply by a constant: Make an existing vector stronger (in the same direction). \"\"\"\n",
        "\n",
        "\n",
        "print(\"The given 1st array 'a' is:\\n\", a)\n",
        "print(\"The given 2nd array 'b' is:\\n\", b)\n",
        "# Multiplication of a and b:\n",
        "c = 2 * a\n",
        "print(\"\\nThe result of 2 * a is:\\n\", c)\n",
        "\n",
        "# Division:\n",
        "c = 4 * b\n",
        "print(\"\\nThe result of 4 * b is:\\n\", c)"
      ],
      "metadata": {
        "colab": {
          "base_uri": "https://localhost:8080/"
        },
        "id": "1TAyoyGNVbfb",
        "outputId": "da6fe295-37a7-454f-9136-e4054cf14bf7"
      },
      "execution_count": 54,
      "outputs": [
        {
          "output_type": "stream",
          "name": "stdout",
          "text": [
            "The given 1st array 'a' is:\n",
            " [19  7 10]\n",
            "The given 2nd array 'b' is:\n",
            " [11  3 15]\n",
            "\n",
            "The result of 2 * a is:\n",
            " [38 14 20]\n",
            "\n",
            "The result of 4 * b is:\n",
            " [44 12 60]\n"
          ]
        }
      ]
    },
    {
      "cell_type": "code",
      "source": [
        "\"\"\" Hadamard product is another widely used operation \"\"\"\n",
        "\n",
        "\n",
        "print(\"The given 1st array 'a' is:\\n\", a)\n",
        "print(\"The given 2nd array 'b' is:\\n\", b)\n",
        "\n",
        "\n",
        "\"\"\"  Product of two numpy arrays:   \"\"\"\n",
        "\n",
        "# Multiplication of a and b:\n",
        "c = a * b\n",
        "print(\"\\nThe result of a * b is:\\n\", c)\n",
        "\n",
        "# Division:\n",
        "c = a / b\n",
        "print(\"\\nThe result of a / b is:\\n\", c)"
      ],
      "metadata": {
        "colab": {
          "base_uri": "https://localhost:8080/"
        },
        "id": "sQ6GbrjLXL9t",
        "outputId": "5366afdf-0856-4b97-d746-7e804b5d4a8a"
      },
      "execution_count": 57,
      "outputs": [
        {
          "output_type": "stream",
          "name": "stdout",
          "text": [
            "The given 1st array 'a' is:\n",
            " [19  7 10]\n",
            "The given 2nd array 'b' is:\n",
            " [11  3 15]\n",
            "\n",
            "The result of a * b is:\n",
            " [209  21 150]\n",
            "\n",
            "The result of a / b is:\n",
            " [1.72727273 2.33333333 0.66666667]\n"
          ]
        }
      ]
    },
    {
      "cell_type": "code",
      "source": [
        "\n",
        " \"\"\" Dot Product of two Numpy array\"\"\"\n",
        " # Dot product of two numpy arrays are: Ax * Bx + Ay * By\n",
        "\n",
        "print(\"The given 1st array 'a' is:\\n\", a)\n",
        "print(\"The given 2nd array 'b' is:\\n\", b)\n",
        "\n",
        "z = np.dot(a,b)\n",
        "\n",
        "print(\"\\nThe dot product of vector a and b: \\n\", z)\n",
        "\n"
      ],
      "metadata": {
        "colab": {
          "base_uri": "https://localhost:8080/"
        },
        "id": "2BonEGiiXmXq",
        "outputId": "9331412a-579a-4538-b775-24ef2b42cf44"
      },
      "execution_count": 59,
      "outputs": [
        {
          "output_type": "stream",
          "name": "stdout",
          "text": [
            "The given 1st array 'a' is:\n",
            " [19  7 10]\n",
            "The given 2nd array 'b' is:\n",
            " [11  3 15]\n",
            "\n",
            "The dot product of vector a and b: \n",
            " 380\n"
          ]
        }
      ]
    },
    {
      "cell_type": "code",
      "source": [
        "# Take two vectors input and find dot product of these two vectors:\n",
        "\n",
        "x = np.array([2,4,6])\n",
        "y = np.array([3,-3,2])\n",
        "\n",
        "z = np.dot(x,y)\n",
        "print(\"The dot product of x, y: \\n\", z)"
      ],
      "metadata": {
        "colab": {
          "base_uri": "https://localhost:8080/"
        },
        "id": "Q-_tytitoZVB",
        "outputId": "ae4c6e58-410a-44ba-c8e3-36e2e3903a2c"
      },
      "execution_count": 62,
      "outputs": [
        {
          "output_type": "stream",
          "name": "stdout",
          "text": [
            "The dot product of x, y: \n",
            " 6\n"
          ]
        }
      ]
    },
    {
      "cell_type": "code",
      "source": [
        "\"\"\" Adding constant value to a vector: \"\"\"\n",
        "\n",
        "z = x + 6\n",
        "print(\"Adding 6 with x vector: \\n\", z)"
      ],
      "metadata": {
        "colab": {
          "base_uri": "https://localhost:8080/"
        },
        "id": "dUD-_RL3piuV",
        "outputId": "52a5b1a3-93f3-493d-e266-ac9c8312fc38"
      },
      "execution_count": 63,
      "outputs": [
        {
          "output_type": "stream",
          "name": "stdout",
          "text": [
            "Adding 6 with x vector: \n",
            " [ 8 10 12]\n"
          ]
        }
      ]
    },
    {
      "cell_type": "code",
      "source": [
        "\n",
        "\n",
        "\"\"\" Universal Functions \"\"\"\n",
        "\n",
        "# A universal function is a function that operates on ndarrays.\n",
        "# We can apply a universal function to a Numpy array.\n",
        "\n",
        "print(\"The last vector z: \\n\", z)\n",
        "\n",
        "print(\"\\nThe minimum value of vector z: \\n\", z.min()) # will print the minimum value\n",
        "\n",
        "print(\"\\nThe maximum value in vector z: \\n\", z.max()) # will print the maximum dimension value\n",
        "\n",
        "print(\"\\nThe mean value of vector z: \\n\", z.mean()) # Mean value of vector z\n"
      ],
      "metadata": {
        "colab": {
          "base_uri": "https://localhost:8080/"
        },
        "id": "0vxWJw9oq6wk",
        "outputId": "dd509d3d-660b-4712-94a8-44de71b557bf"
      },
      "execution_count": 67,
      "outputs": [
        {
          "output_type": "stream",
          "name": "stdout",
          "text": [
            "The last vector z: \n",
            " [ 8 10 12]\n",
            "\n",
            "The minimum value of vector z: \n",
            " 8\n",
            "\n",
            "The maximum value in vector z: \n",
            " 12\n",
            "\n",
            "The mean value of vector z: \n",
            " 10.0\n"
          ]
        }
      ]
    },
    {
      "cell_type": "code",
      "source": [
        "\n",
        "\"\"\" Mapping Numpy array to new Numpy array: \"\"\"\n",
        "\n",
        "print(\"The value of pi: \\n\", np.pi)\n",
        "\n",
        "x = np.array([0, np.pi/2, np.pi])\n",
        "\n",
        "y = np.sin(x)\n",
        "\n",
        "print(\"\\nThe value of x and y are as follows: \\n\", x)\n",
        "print(\"\\nThe value of x and y are as follows: \\n\", y)"
      ],
      "metadata": {
        "colab": {
          "base_uri": "https://localhost:8080/"
        },
        "id": "6QDRzf3mq_43",
        "outputId": "eb20057d-4c90-4469-c823-0951bf18fe69"
      },
      "execution_count": 74,
      "outputs": [
        {
          "output_type": "stream",
          "name": "stdout",
          "text": [
            "The value of pi: \n",
            " 3.141592653589793\n",
            "\n",
            "The value of x and y are as follows: \n",
            " [0.         1.57079633 3.14159265]\n",
            "\n",
            "The value of x and y are as follows: \n",
            " [0.0000000e+00 1.0000000e+00 1.2246468e-16]\n"
          ]
        }
      ]
    },
    {
      "cell_type": "code",
      "source": [
        "\n",
        "\"\"\" Putting linespce between numbers: \"\"\"\n",
        "\n",
        "x = np.linspace(10, 100, num = 10)\n",
        "print(\"\\nThe line space value using func between 10, 100: linspace\\n\", x)\n",
        "\n",
        "y = np.linspace(-100, 100, num = 5)\n",
        "print(\"\\nThe line space value using func between -100, 100: linspace\\n\", y)\n",
        "\n",
        "z = np.linspace(-15, 15, num = 10)\n",
        "print(\"\\nThe line space value using func between -15, 15: linspace\\n\", z)\n"
      ],
      "metadata": {
        "colab": {
          "base_uri": "https://localhost:8080/"
        },
        "id": "QHYp1_qwtWf9",
        "outputId": "38f4b1c8-8d25-4ce0-c760-20ec0ead3ecb"
      },
      "execution_count": 92,
      "outputs": [
        {
          "output_type": "stream",
          "name": "stdout",
          "text": [
            "\n",
            "The line space value using func between 10, 100: linspace\n",
            " [ 10.  20.  30.  40.  50.  60.  70.  80.  90. 100.]\n",
            "\n",
            "The line space value using func between -100, 100: linspace\n",
            " [-100.  -50.    0.   50.  100.]\n",
            "\n",
            "The line space value using func between -15, 15: linspace\n",
            " [-15.         -11.66666667  -8.33333333  -5.          -1.66666667\n",
            "   1.66666667   5.           8.33333333  11.66666667  15.        ]\n"
          ]
        }
      ]
    },
    {
      "cell_type": "code",
      "source": [
        "\n",
        "\"\"\" Plotting Mathematical Functions \"\"\"\n",
        "\n",
        "p = np.linspace(0, 2*np.pi, 100)\n",
        "q = np.sin(p)\n",
        "\n",
        "import matplotlib.pyplot as plt\n",
        "%matplotlib inline\n",
        "\n",
        "plt.plot(p,q)"
      ],
      "metadata": {
        "colab": {
          "base_uri": "https://localhost:8080/",
          "height": 447
        },
        "id": "RgsYAl-Uuiki",
        "outputId": "c694c7ad-8619-43d4-f0f6-6bb3e3423bf2"
      },
      "execution_count": 94,
      "outputs": [
        {
          "output_type": "execute_result",
          "data": {
            "text/plain": [
              "[<matplotlib.lines.Line2D at 0x7ab114ff79a0>]"
            ]
          },
          "metadata": {},
          "execution_count": 94
        },
        {
          "output_type": "display_data",
          "data": {
            "text/plain": [
              "<Figure size 640x480 with 1 Axes>"
            ],
            "image/png": "[encoded data removed]"
          },
          "metadata": {}
        }
      ]
    },
    {
      "cell_type": "code",
      "source": [
        "\n",
        "\"\"\" Plot your graph from two given vectors \"\"\"\n",
        "\n",
        "x = np.array([3, 4, 5, 6, 7])\n",
        "y = np.array([15, 20, 25, 30, 35])\n",
        "import matplotlib.pyplot as plt\n",
        "%matplotlib inline\n",
        "plt.plot(x,y)"
      ],
      "metadata": {
        "colab": {
          "base_uri": "https://localhost:8080/",
          "height": 447
        },
        "id": "w_JVbqwDyJ3N",
        "outputId": "9a839d36-afd0-4080-f2f9-956d93bdfc01"
      },
      "execution_count": 104,
      "outputs": [
        {
          "output_type": "execute_result",
          "data": {
            "text/plain": [
              "[<matplotlib.lines.Line2D at 0x7ab1114b3850>]"
            ]
          },
          "metadata": {},
          "execution_count": 104
        },
        {
          "output_type": "display_data",
          "data": {
            "text/plain": [
              "<Figure size 640x480 with 1 Axes>"
            ],
            "image/png": "[encoded data removed]"
          },
          "metadata": {}
        }
      ]
    },
    {
      "cell_type": "code",
      "source": [
        "\n",
        "\"\"\" Exercise: \"\"\"\n",
        "x = np.array([1,-1])\n",
        "y = np.array([1,1])\n",
        "z = x * y\n",
        "print(\"1st value: \\n\", x)\n",
        "print(\"2nd value: \\n\", y)\n",
        "print(\"Multiplication of x, y: \\n\", z)"
      ],
      "metadata": {
        "colab": {
          "base_uri": "https://localhost:8080/"
        },
        "id": "wv-0v-Frz3XY",
        "outputId": "b1372875-12e3-4631-c21c-1f6d849208be"
      },
      "execution_count": 106,
      "outputs": [
        {
          "output_type": "stream",
          "name": "stdout",
          "text": [
            "1st value: \n",
            " [ 1 -1]\n",
            "2nd value: \n",
            " [1 1]\n",
            "Multiplication of x, y: \n",
            " [ 1 -1]\n"
          ]
        }
      ]
    },
    {
      "cell_type": "code",
      "source": [],
      "metadata": {
        "id": "DVJlabMb2YxM"
      },
      "execution_count": null,
      "outputs": []
    }
  ]
}