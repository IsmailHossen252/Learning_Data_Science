{
  "nbformat": 4,
  "nbformat_minor": 0,
  "metadata": {
    "colab": {
      "provenance": []
    },
    "kernelspec": {
      "name": "python3",
      "display_name": "Python 3"
    },
    "language_info": {
      "name": "python"
    }
  },
  "cells": [
    {
      "cell_type": "code",
      "execution_count": 35,
      "metadata": {
        "colab": {
          "base_uri": "https://localhost:8080/"
        },
        "id": "WbMJ16ClyTEn",
        "outputId": "4e06ee92-4d36-4c05-ad39-cbef5f4a1e30"
      },
      "outputs": [
        {
          "output_type": "stream",
          "name": "stdout",
          "text": [
            "['Monimul\\n', 'Jubair\\n', 'Hridoy\\n', 'Saif\\n', 'Sifat']\n",
            "Before writing files in memory:\n",
            "\n",
            "Monimul\n",
            "\n",
            "\n",
            "\n",
            "Jubair\n",
            "\n",
            "\n",
            "\n",
            "Hridoy\n",
            "\n",
            "\n",
            "\n",
            "Saif\n",
            "\n",
            "\n",
            "\n",
            "Sifat\n",
            "\n",
            "\n",
            "While reading the file from the txt file saved in the memory:\n",
            "\n",
            "Monimul\n",
            "Jubair\n",
            "Hridoy\n",
            "Saif\n",
            "Sifat\n"
          ]
        }
      ],
      "source": [
        "# Before starting appending file, we will write a file in the memory from a given list and will read it:\n",
        "# Writing and Reading list: Let's say, we have 5 names under Name(list), write all names from the list and read the file to print it.\n",
        "Names = [\"Monimul\\n\",\"Jubair\\n\",\"Hridoy\\n\",\"Saif\\n\",\"Sifat\"]\n",
        "print(Names)\n",
        "X = \"/Names.txt\"\n",
        "with open(X,'w') as writeNames:\n",
        "  print(\"Before writing files in memory:\\n\")\n",
        "  for Name in Names:\n",
        "    print(Name)\n",
        "    print(\"\\n\")\n",
        "    writeNames.write(Name)\n",
        "\n",
        "with open(X,'r') as readNames:\n",
        "  print(\"While reading the file from the txt file saved in the memory:\\n\")\n",
        "  print(readNames.read())"
      ]
    },
    {
      "cell_type": "code",
      "source": [
        "# Appending new names and new lines to existing file in the memory:\n",
        "Newnames = [\"Ismail\\n\",\"Jisun\\n\",\"Nishan\\n\"]\n",
        "print(\" New Names to be enter into existing data base\\n\",Newnames)\n",
        "\n",
        "with open(X, 'a') as writenewNames:\n",
        "  print(\"After newly added names to the memory file:\\n\")\n",
        "  for newname in Newnames:\n",
        "    print(newname)\n",
        "    writenewNames.write(newname)\n",
        "\n",
        "with open(X, 'r') as readNames:\n",
        "  print(readNames.read())\n"
      ],
      "metadata": {
        "colab": {
          "base_uri": "https://localhost:8080/"
        },
        "id": "zmSuRKw5zeIk",
        "outputId": "5a42a852-b1a1-4e99-ce75-370f4e07b836"
      },
      "execution_count": 36,
      "outputs": [
        {
          "output_type": "stream",
          "name": "stdout",
          "text": [
            " New Names to be enter into existing data base\n",
            " ['Ismail\\n', 'Jisun\\n', 'Nishan\\n']\n",
            "After newly added names to the memory file:\n",
            "\n",
            "Ismail\n",
            "\n",
            "Jisun\n",
            "\n",
            "Nishan\n",
            "\n",
            "Monimul\n",
            "Jubair\n",
            "Hridoy\n",
            "Saif\n",
            "SifatIsmail\n",
            "Jisun\n",
            "Nishan\n",
            "\n"
          ]
        }
      ]
    },
    {
      "cell_type": "code",
      "source": [],
      "metadata": {
        "id": "IiLIZA003m9Y"
      },
      "execution_count": null,
      "outputs": []
    },
    {
      "cell_type": "code",
      "source": [
        "# Writing country list and then reading it and then append new country;\n",
        "\n",
        "# list of countries:\n",
        "Countries = [\"Argentina\\n\", \"Brazil\\n\", \"Bangladesh\\n\",\"India\\n\",\"Bhutan\\n\"]\n",
        "print(Countries)\n",
        "print('\\n')\n",
        "\n",
        "\n",
        "# writing\n",
        "Textfile = \"/countries.txt\"\n",
        "with open(Textfile,\"w\") as writeCountries:\n",
        "  print(\"While wrting file:\\n\")\n",
        "  for Country in Countries:\n",
        "    print(Country)\n",
        "    writeCountries.write(Country)\n",
        "\n",
        "\n",
        "# reading\n",
        "with open(Textfile,\"r\") as readfile:\n",
        "  print(\"While reading file:\\n\",readfile.read())\n",
        "\n",
        "\n",
        "# appending\n",
        "NewCountries = [\"Nepal\\n\",\"Myanmar\\n\",\"Iran\\n\"]\n",
        "print(\"New Countries:\\n\",NewCountries)\n",
        "print(\"\\n\")\n",
        "\n",
        "with open(Textfile,'a') as appendfile:\n",
        "  for newcountry in NewCountries:\n",
        "    print(newcountry)\n",
        "    appendfile.write(newcountry)\n",
        "\n",
        "with open(Textfile,'r') as readfile:\n",
        "    print(\"The text file after appending new couties from a list:\\n\",readfile.read())"
      ],
      "metadata": {
        "colab": {
          "base_uri": "https://localhost:8080/"
        },
        "id": "axepRQtI4kHc",
        "outputId": "c93f8523-a779-4929-dfd7-853f101cd782"
      },
      "execution_count": 26,
      "outputs": [
        {
          "output_type": "stream",
          "name": "stdout",
          "text": [
            "['Argentina\\n', 'Brazil\\n', 'Bangladesh\\n', 'India\\n', 'Bhutan\\n']\n",
            "\n",
            "\n",
            "While wrting file:\n",
            "\n",
            "Argentina\n",
            "\n",
            "Brazil\n",
            "\n",
            "Bangladesh\n",
            "\n",
            "India\n",
            "\n",
            "Bhutan\n",
            "\n",
            "While reading file:\n",
            " Argentina\n",
            "Brazil\n",
            "Bangladesh\n",
            "India\n",
            "Bhutan\n",
            "\n",
            "New Countries:\n",
            " ['Nepal\\n', 'Myanmar\\n', 'Iran\\n']\n",
            "\n",
            "\n",
            "Nepal\n",
            "\n",
            "Myanmar\n",
            "\n",
            "Iran\n",
            "\n",
            "The text file after appending new couties from a list:\n",
            " Argentina\n",
            "Brazil\n",
            "Bangladesh\n",
            "India\n",
            "Bhutan\n",
            "Nepal\n",
            "Myanmar\n",
            "Iran\n",
            "\n"
          ]
        }
      ]
    },
    {
      "cell_type": "code",
      "source": [],
      "metadata": {
        "id": "lpNF5JD84wrW"
      },
      "execution_count": null,
      "outputs": []
    }
  ]
}