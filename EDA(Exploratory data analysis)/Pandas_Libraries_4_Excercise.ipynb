{
  "nbformat": 4,
  "nbformat_minor": 0,
  "metadata": {
    "colab": {
      "provenance": []
    },
    "kernelspec": {
      "name": "python3",
      "display_name": "Python 3"
    },
    "language_info": {
      "name": "python"
    }
  },
  "cells": [
    {
      "cell_type": "code",
      "execution_count": 3,
      "metadata": {
        "colab": {
          "base_uri": "https://localhost:8080/"
        },
        "id": "iu5jUWDa3Exe",
        "outputId": "207ab0d9-71e2-4915-9f96-6104cbb5ad04"
      },
      "outputs": [
        {
          "output_type": "stream",
          "name": "stdout",
          "text": [
            "            Artist                            Album  Released   Length  \\\n",
            "0  Michael Jackson                         Thriller      1982  0:42:19   \n",
            "1            AC/DC                    Back in Black      1980  0:42:11   \n",
            "2       Pink Floyd        The Dark Side of the Moon      1973  0:42:49   \n",
            "3  Whitney Houston                    The Bodyguard      1992  0:57:44   \n",
            "4        Meat Loaf                  Bat Out of Hell      1977  0:46:33   \n",
            "5           Eagles  Their Greatest Hits (1971-1975)      1976  0:43:08   \n",
            "6         Bee Gees             Saturday Night Fever      1977  1:15:54   \n",
            "7    Fleetwood Mac                          Rumours      1977  0:40:01   \n",
            "\n",
            "                         Genre  Music recording sales (millions)  \\\n",
            "0               Pop, rock, R&B                              46.0   \n",
            "1                    Hard rock                              26.1   \n",
            "2             Progressive rock                              24.2   \n",
            "3    Soundtrack/R&B, soul, pop                              26.1   \n",
            "4  Hard rock, progressive rock                              20.6   \n",
            "5   Rock, soft rock, folk rock                              32.2   \n",
            "6                        Disco                              20.6   \n",
            "7                    Soft rock                              27.9   \n",
            "\n",
            "   Claimed sales (millions) Released.1 Soundtrack  Rating (friends)  \n",
            "0                        65  30-Nov-82        NaN              10.0  \n",
            "1                        50  25-Jul-80        NaN               8.5  \n",
            "2                        45  01-Mar-73        NaN               9.5  \n",
            "3                        50  25-Jul-80          Y               7.0  \n",
            "4                        43  21-Oct-77        NaN               7.0  \n",
            "5                        42  17-Feb-76        NaN               9.5  \n",
            "6                        40  15-Nov-77          Y               9.0  \n",
            "7                        40  04-Feb-77        NaN               9.5  \n"
          ]
        }
      ],
      "source": [
        "\n",
        "import pandas as pd\n",
        "\n",
        "songs = '//content/drive/MyDrive/Colab Notebooks/Colabfiles/Songs.csv'\n",
        "\n",
        "df = pd.read_csv(songs)\n",
        "\n",
        "print(df)"
      ]
    },
    {
      "cell_type": "code",
      "source": [
        "# Createa csv file of songs those were released after 1980:\n",
        "df1 = df[df[\"Released\"]>1980]\n",
        "print(df1)\n",
        "\n",
        "df1.to_csv('/content/drive/MyDrive/Colab Notebooks/Colabfiles/Songs those were released after 1980.csv')"
      ],
      "metadata": {
        "colab": {
          "base_uri": "https://localhost:8080/"
        },
        "id": "88xILV4K3ct1",
        "outputId": "56a1ff9c-f927-4a75-f6ab-335584855509"
      },
      "execution_count": 6,
      "outputs": [
        {
          "output_type": "stream",
          "name": "stdout",
          "text": [
            "            Artist          Album  Released   Length  \\\n",
            "0  Michael Jackson       Thriller      1982  0:42:19   \n",
            "3  Whitney Houston  The Bodyguard      1992  0:57:44   \n",
            "\n",
            "                       Genre  Music recording sales (millions)  \\\n",
            "0             Pop, rock, R&B                              46.0   \n",
            "3  Soundtrack/R&B, soul, pop                              26.1   \n",
            "\n",
            "   Claimed sales (millions) Released.1 Soundtrack  Rating (friends)  \n",
            "0                        65  30-Nov-82        NaN              10.0  \n",
            "3                        50  25-Jul-80          Y               7.0  \n"
          ]
        }
      ]
    },
    {
      "cell_type": "code",
      "source": [
        "# Print the table Songs those were released after 1980\n",
        "print(df1.head())"
      ],
      "metadata": {
        "colab": {
          "base_uri": "https://localhost:8080/"
        },
        "id": "ulzpedPH4DXL",
        "outputId": "e18327ee-565f-4d2d-c291-e84659d3d141"
      },
      "execution_count": 8,
      "outputs": [
        {
          "output_type": "stream",
          "name": "stdout",
          "text": [
            "            Artist          Album  Released   Length  \\\n",
            "0  Michael Jackson       Thriller      1982  0:42:19   \n",
            "3  Whitney Houston  The Bodyguard      1992  0:57:44   \n",
            "\n",
            "                       Genre  Music recording sales (millions)  \\\n",
            "0             Pop, rock, R&B                              46.0   \n",
            "3  Soundtrack/R&B, soul, pop                              26.1   \n",
            "\n",
            "   Claimed sales (millions) Released.1 Soundtrack  Rating (friends)  \n",
            "0                        65  30-Nov-82        NaN              10.0  \n",
            "3                        50  25-Jul-80          Y               7.0  \n"
          ]
        }
      ]
    },
    {
      "cell_type": "code",
      "source": [],
      "metadata": {
        "id": "YN8w9YCA4-QL"
      },
      "execution_count": null,
      "outputs": []
    }
  ]
}